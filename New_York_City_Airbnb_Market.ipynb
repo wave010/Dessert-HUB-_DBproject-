{
  "nbformat": 4,
  "nbformat_minor": 0,
  "metadata": {
    "colab": {
      "provenance": [],
      "authorship_tag": "ABX9TyNo58HDR7wNcp1Roxx/LJOI",
      "include_colab_link": true
    },
    "kernelspec": {
      "name": "python3",
      "display_name": "Python 3"
    },
    "language_info": {
      "name": "python"
    }
  },
  "cells": [
    {
      "cell_type": "markdown",
      "metadata": {
        "id": "view-in-github",
        "colab_type": "text"
      },
      "source": [
        "<a href=\"https://colab.research.google.com/github/wave010/Dessert-HUB-_DBproject-/blob/main/New_York_City_Airbnb_Market.ipynb\" target=\"_parent\"><img src=\"https://colab.research.google.com/assets/colab-badge.svg\" alt=\"Open In Colab\"/></a>"
      ]
    },
    {
      "cell_type": "markdown",
      "source": [
        "# **New York City Airbnb Market**\n",
        "\n",
        "dataset : https://www.kaggle.com/datasets/ebrahimelgazar/new-york-city-airbnb-market\n",
        "\n"
      ],
      "metadata": {
        "id": "gbXRfEWCsZyd"
      }
    },
    {
      "cell_type": "markdown",
      "source": [
        "**Airbnb** คือ ระบบการจองห้องพักในประเทศต่างๆ ผ่านโลกออนไลน์ โดยผู้ที่ต้องการจองห้องพัก สามารถติดต่อกับผู้ให้บริการที่พักผ่านระบบอินเทอร์เนตได้โดยตรง เช่น ถ้าคุณมีห้องคอนโดว่างๆอยู่ ไม่ได้ใช้ในการอยู่อาศัย หรือ ใครคนอื่นๆเช้าในระยะยาว คุณสามารถสมัครเพื่อเป็นโฮสใน Airbnb ได้ เมื่อมีผู้ที่ต้องการเดินทางมาที่เมืองที่คุณอยู่ แต่อาจจะไม่ต้องการพักในโรงแรม จะสามารถเข้ามาดูข้อมูลในเว็บไซต์ รวมทั้งแอฟลิเคชั่นของ Airbnb ได้ และสามารถติดต่อพุดคุยกับคุณได้โดยตรง เพื่อกำหนดวันที่จะเข้ามาพักได้ด้วยตัวเอง [อ่นเพิ่มเติม](https://www.ananda.co.th/blog/thegenc/start-up-airbnb/)"
      ],
      "metadata": {
        "id": "oYOqoRA8-QcQ"
      }
    },
    {
      "cell_type": "markdown",
      "source": [
        "##***Get data***"
      ],
      "metadata": {
        "id": "HJyDTNX4thE3"
      }
    },
    {
      "cell_type": "code",
      "execution_count": 1,
      "metadata": {
        "colab": {
          "base_uri": "https://localhost:8080/"
        },
        "id": "lPbu2BYPsXGO",
        "outputId": "01b6a80c-2b59-4a84-c5dd-efbafbb5c1d7"
      },
      "outputs": [
        {
          "output_type": "stream",
          "name": "stdout",
          "text": [
            "/usr/local/lib/python3.8/dist-packages/gdown/cli.py:127: FutureWarning: Option `--id` was deprecated in version 4.3.1 and will be removed in 5.0. You don't need to pass it anymore to use a file ID.\n",
            "  warnings.warn(\n",
            "Downloading...\n",
            "From: https://drive.google.com/uc?id=1kg5NnZTtptGrCK8DzYSkl3yo1IXLmwU-\n",
            "To: /content/NewYorkCity_AirbnbMarket.zip\n",
            "100% 1.43M/1.43M [00:00<00:00, 126MB/s]\n"
          ]
        }
      ],
      "source": [
        "!gdown --id 1kg5NnZTtptGrCK8DzYSkl3yo1IXLmwU- #download data file in google drive"
      ]
    },
    {
      "cell_type": "code",
      "source": [
        "!unzip NewYorkCity_AirbnbMarket.zip # Extract file zip"
      ],
      "metadata": {
        "colab": {
          "base_uri": "https://localhost:8080/"
        },
        "id": "BVIneynLuMyL",
        "outputId": "0fa8854e-39c5-4592-e816-ab2fcca25abd"
      },
      "execution_count": 2,
      "outputs": [
        {
          "output_type": "stream",
          "name": "stdout",
          "text": [
            "Archive:  NewYorkCity_AirbnbMarket.zip\n",
            "  inflating: airbnb_last_review.csv  \n",
            "  inflating: airbnb_price.csv        \n",
            "  inflating: airbnb_room_type.xlsx   \n"
          ]
        }
      ]
    },
    {
      "cell_type": "markdown",
      "source": [
        "**read file**"
      ],
      "metadata": {
        "id": "Q2K0ZlcjwAkf"
      }
    },
    {
      "cell_type": "code",
      "source": [
        "import pandas as pd\n",
        "\n",
        "# read csv file to DataFrame\n",
        "review = pd.read_csv(\"airbnb_last_review.csv\")\n",
        "price = pd.read_csv(\"airbnb_price.csv\")\n",
        "\n",
        "# read excel file to DataFrame\n",
        "roomType = pd.read_excel(\"airbnb_room_type.xlsx\",\"airbnb_room_type\")"
      ],
      "metadata": {
        "id": "CF7WrPvlu8xw"
      },
      "execution_count": 3,
      "outputs": []
    },
    {
      "cell_type": "code",
      "source": [
        "print(review.shape) # review DataFrame\n",
        "review.head()"
      ],
      "metadata": {
        "colab": {
          "base_uri": "https://localhost:8080/",
          "height": 223
        },
        "id": "jHXHjzr3wFXE",
        "outputId": "080114f9-909f-4a59-8e4b-d572f6a30a93"
      },
      "execution_count": 4,
      "outputs": [
        {
          "output_type": "stream",
          "name": "stdout",
          "text": [
            "(25209, 3)\n"
          ]
        },
        {
          "output_type": "execute_result",
          "data": {
            "text/plain": [
              "    listing_id    host_name   last_review\n",
              "0         2595     Jennifer   May 21 2019\n",
              "1         3831  LisaRoxanne  July 05 2019\n",
              "2         5099        Chris  June 22 2019\n",
              "3         5178     Shunichi  June 24 2019\n",
              "4         5238          Ben  June 09 2019"
            ],
            "text/html": [
              "\n",
              "  <div id=\"df-8de0ae54-e254-4b40-bdb5-d4b26aba86c8\">\n",
              "    <div class=\"colab-df-container\">\n",
              "      <div>\n",
              "<style scoped>\n",
              "    .dataframe tbody tr th:only-of-type {\n",
              "        vertical-align: middle;\n",
              "    }\n",
              "\n",
              "    .dataframe tbody tr th {\n",
              "        vertical-align: top;\n",
              "    }\n",
              "\n",
              "    .dataframe thead th {\n",
              "        text-align: right;\n",
              "    }\n",
              "</style>\n",
              "<table border=\"1\" class=\"dataframe\">\n",
              "  <thead>\n",
              "    <tr style=\"text-align: right;\">\n",
              "      <th></th>\n",
              "      <th>listing_id</th>\n",
              "      <th>host_name</th>\n",
              "      <th>last_review</th>\n",
              "    </tr>\n",
              "  </thead>\n",
              "  <tbody>\n",
              "    <tr>\n",
              "      <th>0</th>\n",
              "      <td>2595</td>\n",
              "      <td>Jennifer</td>\n",
              "      <td>May 21 2019</td>\n",
              "    </tr>\n",
              "    <tr>\n",
              "      <th>1</th>\n",
              "      <td>3831</td>\n",
              "      <td>LisaRoxanne</td>\n",
              "      <td>July 05 2019</td>\n",
              "    </tr>\n",
              "    <tr>\n",
              "      <th>2</th>\n",
              "      <td>5099</td>\n",
              "      <td>Chris</td>\n",
              "      <td>June 22 2019</td>\n",
              "    </tr>\n",
              "    <tr>\n",
              "      <th>3</th>\n",
              "      <td>5178</td>\n",
              "      <td>Shunichi</td>\n",
              "      <td>June 24 2019</td>\n",
              "    </tr>\n",
              "    <tr>\n",
              "      <th>4</th>\n",
              "      <td>5238</td>\n",
              "      <td>Ben</td>\n",
              "      <td>June 09 2019</td>\n",
              "    </tr>\n",
              "  </tbody>\n",
              "</table>\n",
              "</div>\n",
              "      <button class=\"colab-df-convert\" onclick=\"convertToInteractive('df-8de0ae54-e254-4b40-bdb5-d4b26aba86c8')\"\n",
              "              title=\"Convert this dataframe to an interactive table.\"\n",
              "              style=\"display:none;\">\n",
              "        \n",
              "  <svg xmlns=\"http://www.w3.org/2000/svg\" height=\"24px\"viewBox=\"0 0 24 24\"\n",
              "       width=\"24px\">\n",
              "    <path d=\"M0 0h24v24H0V0z\" fill=\"none\"/>\n",
              "    <path d=\"M18.56 5.44l.94 2.06.94-2.06 2.06-.94-2.06-.94-.94-2.06-.94 2.06-2.06.94zm-11 1L8.5 8.5l.94-2.06 2.06-.94-2.06-.94L8.5 2.5l-.94 2.06-2.06.94zm10 10l.94 2.06.94-2.06 2.06-.94-2.06-.94-.94-2.06-.94 2.06-2.06.94z\"/><path d=\"M17.41 7.96l-1.37-1.37c-.4-.4-.92-.59-1.43-.59-.52 0-1.04.2-1.43.59L10.3 9.45l-7.72 7.72c-.78.78-.78 2.05 0 2.83L4 21.41c.39.39.9.59 1.41.59.51 0 1.02-.2 1.41-.59l7.78-7.78 2.81-2.81c.8-.78.8-2.07 0-2.86zM5.41 20L4 18.59l7.72-7.72 1.47 1.35L5.41 20z\"/>\n",
              "  </svg>\n",
              "      </button>\n",
              "      \n",
              "  <style>\n",
              "    .colab-df-container {\n",
              "      display:flex;\n",
              "      flex-wrap:wrap;\n",
              "      gap: 12px;\n",
              "    }\n",
              "\n",
              "    .colab-df-convert {\n",
              "      background-color: #E8F0FE;\n",
              "      border: none;\n",
              "      border-radius: 50%;\n",
              "      cursor: pointer;\n",
              "      display: none;\n",
              "      fill: #1967D2;\n",
              "      height: 32px;\n",
              "      padding: 0 0 0 0;\n",
              "      width: 32px;\n",
              "    }\n",
              "\n",
              "    .colab-df-convert:hover {\n",
              "      background-color: #E2EBFA;\n",
              "      box-shadow: 0px 1px 2px rgba(60, 64, 67, 0.3), 0px 1px 3px 1px rgba(60, 64, 67, 0.15);\n",
              "      fill: #174EA6;\n",
              "    }\n",
              "\n",
              "    [theme=dark] .colab-df-convert {\n",
              "      background-color: #3B4455;\n",
              "      fill: #D2E3FC;\n",
              "    }\n",
              "\n",
              "    [theme=dark] .colab-df-convert:hover {\n",
              "      background-color: #434B5C;\n",
              "      box-shadow: 0px 1px 3px 1px rgba(0, 0, 0, 0.15);\n",
              "      filter: drop-shadow(0px 1px 2px rgba(0, 0, 0, 0.3));\n",
              "      fill: #FFFFFF;\n",
              "    }\n",
              "  </style>\n",
              "\n",
              "      <script>\n",
              "        const buttonEl =\n",
              "          document.querySelector('#df-8de0ae54-e254-4b40-bdb5-d4b26aba86c8 button.colab-df-convert');\n",
              "        buttonEl.style.display =\n",
              "          google.colab.kernel.accessAllowed ? 'block' : 'none';\n",
              "\n",
              "        async function convertToInteractive(key) {\n",
              "          const element = document.querySelector('#df-8de0ae54-e254-4b40-bdb5-d4b26aba86c8');\n",
              "          const dataTable =\n",
              "            await google.colab.kernel.invokeFunction('convertToInteractive',\n",
              "                                                     [key], {});\n",
              "          if (!dataTable) return;\n",
              "\n",
              "          const docLinkHtml = 'Like what you see? Visit the ' +\n",
              "            '<a target=\"_blank\" href=https://colab.research.google.com/notebooks/data_table.ipynb>data table notebook</a>'\n",
              "            + ' to learn more about interactive tables.';\n",
              "          element.innerHTML = '';\n",
              "          dataTable['output_type'] = 'display_data';\n",
              "          await google.colab.output.renderOutput(dataTable, element);\n",
              "          const docLink = document.createElement('div');\n",
              "          docLink.innerHTML = docLinkHtml;\n",
              "          element.appendChild(docLink);\n",
              "        }\n",
              "      </script>\n",
              "    </div>\n",
              "  </div>\n",
              "  "
            ]
          },
          "metadata": {},
          "execution_count": 4
        }
      ]
    },
    {
      "cell_type": "code",
      "source": [
        "print(price.shape) # price DataFrame\n",
        "price.head()"
      ],
      "metadata": {
        "colab": {
          "base_uri": "https://localhost:8080/",
          "height": 223
        },
        "id": "sJytxJK_wHI_",
        "outputId": "9570cbd7-c8bc-410e-fbe4-afa73392ad6c"
      },
      "execution_count": 5,
      "outputs": [
        {
          "output_type": "stream",
          "name": "stdout",
          "text": [
            "(25209, 3)\n"
          ]
        },
        {
          "output_type": "execute_result",
          "data": {
            "text/plain": [
              "   listing_id        price                nbhood_full\n",
              "0        2595  225 dollars         Manhattan, Midtown\n",
              "1        3831   89 dollars     Brooklyn, Clinton Hill\n",
              "2        5099  200 dollars     Manhattan, Murray Hill\n",
              "3        5178   79 dollars  Manhattan, Hell's Kitchen\n",
              "4        5238  150 dollars       Manhattan, Chinatown"
            ],
            "text/html": [
              "\n",
              "  <div id=\"df-e77069b3-b0e4-47a1-a038-2aeebebf07a7\">\n",
              "    <div class=\"colab-df-container\">\n",
              "      <div>\n",
              "<style scoped>\n",
              "    .dataframe tbody tr th:only-of-type {\n",
              "        vertical-align: middle;\n",
              "    }\n",
              "\n",
              "    .dataframe tbody tr th {\n",
              "        vertical-align: top;\n",
              "    }\n",
              "\n",
              "    .dataframe thead th {\n",
              "        text-align: right;\n",
              "    }\n",
              "</style>\n",
              "<table border=\"1\" class=\"dataframe\">\n",
              "  <thead>\n",
              "    <tr style=\"text-align: right;\">\n",
              "      <th></th>\n",
              "      <th>listing_id</th>\n",
              "      <th>price</th>\n",
              "      <th>nbhood_full</th>\n",
              "    </tr>\n",
              "  </thead>\n",
              "  <tbody>\n",
              "    <tr>\n",
              "      <th>0</th>\n",
              "      <td>2595</td>\n",
              "      <td>225 dollars</td>\n",
              "      <td>Manhattan, Midtown</td>\n",
              "    </tr>\n",
              "    <tr>\n",
              "      <th>1</th>\n",
              "      <td>3831</td>\n",
              "      <td>89 dollars</td>\n",
              "      <td>Brooklyn, Clinton Hill</td>\n",
              "    </tr>\n",
              "    <tr>\n",
              "      <th>2</th>\n",
              "      <td>5099</td>\n",
              "      <td>200 dollars</td>\n",
              "      <td>Manhattan, Murray Hill</td>\n",
              "    </tr>\n",
              "    <tr>\n",
              "      <th>3</th>\n",
              "      <td>5178</td>\n",
              "      <td>79 dollars</td>\n",
              "      <td>Manhattan, Hell's Kitchen</td>\n",
              "    </tr>\n",
              "    <tr>\n",
              "      <th>4</th>\n",
              "      <td>5238</td>\n",
              "      <td>150 dollars</td>\n",
              "      <td>Manhattan, Chinatown</td>\n",
              "    </tr>\n",
              "  </tbody>\n",
              "</table>\n",
              "</div>\n",
              "      <button class=\"colab-df-convert\" onclick=\"convertToInteractive('df-e77069b3-b0e4-47a1-a038-2aeebebf07a7')\"\n",
              "              title=\"Convert this dataframe to an interactive table.\"\n",
              "              style=\"display:none;\">\n",
              "        \n",
              "  <svg xmlns=\"http://www.w3.org/2000/svg\" height=\"24px\"viewBox=\"0 0 24 24\"\n",
              "       width=\"24px\">\n",
              "    <path d=\"M0 0h24v24H0V0z\" fill=\"none\"/>\n",
              "    <path d=\"M18.56 5.44l.94 2.06.94-2.06 2.06-.94-2.06-.94-.94-2.06-.94 2.06-2.06.94zm-11 1L8.5 8.5l.94-2.06 2.06-.94-2.06-.94L8.5 2.5l-.94 2.06-2.06.94zm10 10l.94 2.06.94-2.06 2.06-.94-2.06-.94-.94-2.06-.94 2.06-2.06.94z\"/><path d=\"M17.41 7.96l-1.37-1.37c-.4-.4-.92-.59-1.43-.59-.52 0-1.04.2-1.43.59L10.3 9.45l-7.72 7.72c-.78.78-.78 2.05 0 2.83L4 21.41c.39.39.9.59 1.41.59.51 0 1.02-.2 1.41-.59l7.78-7.78 2.81-2.81c.8-.78.8-2.07 0-2.86zM5.41 20L4 18.59l7.72-7.72 1.47 1.35L5.41 20z\"/>\n",
              "  </svg>\n",
              "      </button>\n",
              "      \n",
              "  <style>\n",
              "    .colab-df-container {\n",
              "      display:flex;\n",
              "      flex-wrap:wrap;\n",
              "      gap: 12px;\n",
              "    }\n",
              "\n",
              "    .colab-df-convert {\n",
              "      background-color: #E8F0FE;\n",
              "      border: none;\n",
              "      border-radius: 50%;\n",
              "      cursor: pointer;\n",
              "      display: none;\n",
              "      fill: #1967D2;\n",
              "      height: 32px;\n",
              "      padding: 0 0 0 0;\n",
              "      width: 32px;\n",
              "    }\n",
              "\n",
              "    .colab-df-convert:hover {\n",
              "      background-color: #E2EBFA;\n",
              "      box-shadow: 0px 1px 2px rgba(60, 64, 67, 0.3), 0px 1px 3px 1px rgba(60, 64, 67, 0.15);\n",
              "      fill: #174EA6;\n",
              "    }\n",
              "\n",
              "    [theme=dark] .colab-df-convert {\n",
              "      background-color: #3B4455;\n",
              "      fill: #D2E3FC;\n",
              "    }\n",
              "\n",
              "    [theme=dark] .colab-df-convert:hover {\n",
              "      background-color: #434B5C;\n",
              "      box-shadow: 0px 1px 3px 1px rgba(0, 0, 0, 0.15);\n",
              "      filter: drop-shadow(0px 1px 2px rgba(0, 0, 0, 0.3));\n",
              "      fill: #FFFFFF;\n",
              "    }\n",
              "  </style>\n",
              "\n",
              "      <script>\n",
              "        const buttonEl =\n",
              "          document.querySelector('#df-e77069b3-b0e4-47a1-a038-2aeebebf07a7 button.colab-df-convert');\n",
              "        buttonEl.style.display =\n",
              "          google.colab.kernel.accessAllowed ? 'block' : 'none';\n",
              "\n",
              "        async function convertToInteractive(key) {\n",
              "          const element = document.querySelector('#df-e77069b3-b0e4-47a1-a038-2aeebebf07a7');\n",
              "          const dataTable =\n",
              "            await google.colab.kernel.invokeFunction('convertToInteractive',\n",
              "                                                     [key], {});\n",
              "          if (!dataTable) return;\n",
              "\n",
              "          const docLinkHtml = 'Like what you see? Visit the ' +\n",
              "            '<a target=\"_blank\" href=https://colab.research.google.com/notebooks/data_table.ipynb>data table notebook</a>'\n",
              "            + ' to learn more about interactive tables.';\n",
              "          element.innerHTML = '';\n",
              "          dataTable['output_type'] = 'display_data';\n",
              "          await google.colab.output.renderOutput(dataTable, element);\n",
              "          const docLink = document.createElement('div');\n",
              "          docLink.innerHTML = docLinkHtml;\n",
              "          element.appendChild(docLink);\n",
              "        }\n",
              "      </script>\n",
              "    </div>\n",
              "  </div>\n",
              "  "
            ]
          },
          "metadata": {},
          "execution_count": 5
        }
      ]
    },
    {
      "cell_type": "code",
      "source": [
        "print(roomType.shape) # roomType DataFrame\n",
        "roomType.head()"
      ],
      "metadata": {
        "colab": {
          "base_uri": "https://localhost:8080/",
          "height": 223
        },
        "id": "RFOxIHw7wI_M",
        "outputId": "184abb44-b66c-45cb-96ba-22b3e9625bfa"
      },
      "execution_count": 6,
      "outputs": [
        {
          "output_type": "stream",
          "name": "stdout",
          "text": [
            "(25209, 3)\n"
          ]
        },
        {
          "output_type": "execute_result",
          "data": {
            "text/plain": [
              "   listing_id                                description        room_type\n",
              "0        2595                      Skylit Midtown Castle  Entire home/apt\n",
              "1        3831            Cozy Entire Floor of Brownstone  Entire home/apt\n",
              "2        5099  Large Cozy 1 BR Apartment In Midtown East  Entire home/apt\n",
              "3        5178            Large Furnished Room Near B'way     private room\n",
              "4        5238         Cute & Cozy Lower East Side 1 bdrm  Entire home/apt"
            ],
            "text/html": [
              "\n",
              "  <div id=\"df-d1768eba-7897-4440-b35e-2455ea709eb7\">\n",
              "    <div class=\"colab-df-container\">\n",
              "      <div>\n",
              "<style scoped>\n",
              "    .dataframe tbody tr th:only-of-type {\n",
              "        vertical-align: middle;\n",
              "    }\n",
              "\n",
              "    .dataframe tbody tr th {\n",
              "        vertical-align: top;\n",
              "    }\n",
              "\n",
              "    .dataframe thead th {\n",
              "        text-align: right;\n",
              "    }\n",
              "</style>\n",
              "<table border=\"1\" class=\"dataframe\">\n",
              "  <thead>\n",
              "    <tr style=\"text-align: right;\">\n",
              "      <th></th>\n",
              "      <th>listing_id</th>\n",
              "      <th>description</th>\n",
              "      <th>room_type</th>\n",
              "    </tr>\n",
              "  </thead>\n",
              "  <tbody>\n",
              "    <tr>\n",
              "      <th>0</th>\n",
              "      <td>2595</td>\n",
              "      <td>Skylit Midtown Castle</td>\n",
              "      <td>Entire home/apt</td>\n",
              "    </tr>\n",
              "    <tr>\n",
              "      <th>1</th>\n",
              "      <td>3831</td>\n",
              "      <td>Cozy Entire Floor of Brownstone</td>\n",
              "      <td>Entire home/apt</td>\n",
              "    </tr>\n",
              "    <tr>\n",
              "      <th>2</th>\n",
              "      <td>5099</td>\n",
              "      <td>Large Cozy 1 BR Apartment In Midtown East</td>\n",
              "      <td>Entire home/apt</td>\n",
              "    </tr>\n",
              "    <tr>\n",
              "      <th>3</th>\n",
              "      <td>5178</td>\n",
              "      <td>Large Furnished Room Near B'way</td>\n",
              "      <td>private room</td>\n",
              "    </tr>\n",
              "    <tr>\n",
              "      <th>4</th>\n",
              "      <td>5238</td>\n",
              "      <td>Cute &amp; Cozy Lower East Side 1 bdrm</td>\n",
              "      <td>Entire home/apt</td>\n",
              "    </tr>\n",
              "  </tbody>\n",
              "</table>\n",
              "</div>\n",
              "      <button class=\"colab-df-convert\" onclick=\"convertToInteractive('df-d1768eba-7897-4440-b35e-2455ea709eb7')\"\n",
              "              title=\"Convert this dataframe to an interactive table.\"\n",
              "              style=\"display:none;\">\n",
              "        \n",
              "  <svg xmlns=\"http://www.w3.org/2000/svg\" height=\"24px\"viewBox=\"0 0 24 24\"\n",
              "       width=\"24px\">\n",
              "    <path d=\"M0 0h24v24H0V0z\" fill=\"none\"/>\n",
              "    <path d=\"M18.56 5.44l.94 2.06.94-2.06 2.06-.94-2.06-.94-.94-2.06-.94 2.06-2.06.94zm-11 1L8.5 8.5l.94-2.06 2.06-.94-2.06-.94L8.5 2.5l-.94 2.06-2.06.94zm10 10l.94 2.06.94-2.06 2.06-.94-2.06-.94-.94-2.06-.94 2.06-2.06.94z\"/><path d=\"M17.41 7.96l-1.37-1.37c-.4-.4-.92-.59-1.43-.59-.52 0-1.04.2-1.43.59L10.3 9.45l-7.72 7.72c-.78.78-.78 2.05 0 2.83L4 21.41c.39.39.9.59 1.41.59.51 0 1.02-.2 1.41-.59l7.78-7.78 2.81-2.81c.8-.78.8-2.07 0-2.86zM5.41 20L4 18.59l7.72-7.72 1.47 1.35L5.41 20z\"/>\n",
              "  </svg>\n",
              "      </button>\n",
              "      \n",
              "  <style>\n",
              "    .colab-df-container {\n",
              "      display:flex;\n",
              "      flex-wrap:wrap;\n",
              "      gap: 12px;\n",
              "    }\n",
              "\n",
              "    .colab-df-convert {\n",
              "      background-color: #E8F0FE;\n",
              "      border: none;\n",
              "      border-radius: 50%;\n",
              "      cursor: pointer;\n",
              "      display: none;\n",
              "      fill: #1967D2;\n",
              "      height: 32px;\n",
              "      padding: 0 0 0 0;\n",
              "      width: 32px;\n",
              "    }\n",
              "\n",
              "    .colab-df-convert:hover {\n",
              "      background-color: #E2EBFA;\n",
              "      box-shadow: 0px 1px 2px rgba(60, 64, 67, 0.3), 0px 1px 3px 1px rgba(60, 64, 67, 0.15);\n",
              "      fill: #174EA6;\n",
              "    }\n",
              "\n",
              "    [theme=dark] .colab-df-convert {\n",
              "      background-color: #3B4455;\n",
              "      fill: #D2E3FC;\n",
              "    }\n",
              "\n",
              "    [theme=dark] .colab-df-convert:hover {\n",
              "      background-color: #434B5C;\n",
              "      box-shadow: 0px 1px 3px 1px rgba(0, 0, 0, 0.15);\n",
              "      filter: drop-shadow(0px 1px 2px rgba(0, 0, 0, 0.3));\n",
              "      fill: #FFFFFF;\n",
              "    }\n",
              "  </style>\n",
              "\n",
              "      <script>\n",
              "        const buttonEl =\n",
              "          document.querySelector('#df-d1768eba-7897-4440-b35e-2455ea709eb7 button.colab-df-convert');\n",
              "        buttonEl.style.display =\n",
              "          google.colab.kernel.accessAllowed ? 'block' : 'none';\n",
              "\n",
              "        async function convertToInteractive(key) {\n",
              "          const element = document.querySelector('#df-d1768eba-7897-4440-b35e-2455ea709eb7');\n",
              "          const dataTable =\n",
              "            await google.colab.kernel.invokeFunction('convertToInteractive',\n",
              "                                                     [key], {});\n",
              "          if (!dataTable) return;\n",
              "\n",
              "          const docLinkHtml = 'Like what you see? Visit the ' +\n",
              "            '<a target=\"_blank\" href=https://colab.research.google.com/notebooks/data_table.ipynb>data table notebook</a>'\n",
              "            + ' to learn more about interactive tables.';\n",
              "          element.innerHTML = '';\n",
              "          dataTable['output_type'] = 'display_data';\n",
              "          await google.colab.output.renderOutput(dataTable, element);\n",
              "          const docLink = document.createElement('div');\n",
              "          docLink.innerHTML = docLinkHtml;\n",
              "          element.appendChild(docLink);\n",
              "        }\n",
              "      </script>\n",
              "    </div>\n",
              "  </div>\n",
              "  "
            ]
          },
          "metadata": {},
          "execution_count": 6
        }
      ]
    },
    {
      "cell_type": "code",
      "source": [
        "#check column\n",
        "print(review.columns)\n",
        "print(price.columns)\n",
        "print(roomType.columns)"
      ],
      "metadata": {
        "colab": {
          "base_uri": "https://localhost:8080/"
        },
        "id": "eLgb0S1CPo3K",
        "outputId": "636b1edf-961d-42ea-a2ae-b24493eee5b6"
      },
      "execution_count": 7,
      "outputs": [
        {
          "output_type": "stream",
          "name": "stdout",
          "text": [
            "Index([' listing_id', 'host_name', 'last_review'], dtype='object')\n",
            "Index(['listing_id', 'price', 'nbhood_full'], dtype='object')\n",
            "Index(['listing_id', 'description', 'room_type'], dtype='object')\n"
          ]
        }
      ]
    },
    {
      "cell_type": "code",
      "source": [
        "#removing space\n",
        "review.columns = review.columns.str.lstrip()"
      ],
      "metadata": {
        "id": "9Tw-cY0FnYEr"
      },
      "execution_count": 8,
      "outputs": []
    },
    {
      "cell_type": "code",
      "source": [
        "#check column\n",
        "print(review.columns)"
      ],
      "metadata": {
        "colab": {
          "base_uri": "https://localhost:8080/"
        },
        "id": "f8F2LsMPnbCi",
        "outputId": "405c518d-f79f-4a5e-f1af-243a1ac0af8c"
      },
      "execution_count": 11,
      "outputs": [
        {
          "output_type": "stream",
          "name": "stdout",
          "text": [
            "Index(['listing_id', 'host_name', 'last_review'], dtype='object')\n"
          ]
        }
      ]
    },
    {
      "cell_type": "markdown",
      "source": [
        "**merge DataFrame**"
      ],
      "metadata": {
        "id": "wL1wK8SwPEVg"
      }
    },
    {
      "cell_type": "code",
      "source": [
        "df_merge = pd.merge(review, price, on='listing_id')\n",
        "df = pd.merge(df_merge, roomType, on='listing_id')\n",
        "df.head()"
      ],
      "metadata": {
        "colab": {
          "base_uri": "https://localhost:8080/",
          "height": 206
        },
        "id": "JD5lM2zdPDjR",
        "outputId": "1b423e75-d232-4f1a-9772-3207c37f95c8"
      },
      "execution_count": 12,
      "outputs": [
        {
          "output_type": "execute_result",
          "data": {
            "text/plain": [
              "   listing_id    host_name   last_review        price  \\\n",
              "0        2595     Jennifer   May 21 2019  225 dollars   \n",
              "1        3831  LisaRoxanne  July 05 2019   89 dollars   \n",
              "2        5099        Chris  June 22 2019  200 dollars   \n",
              "3        5178     Shunichi  June 24 2019   79 dollars   \n",
              "4        5238          Ben  June 09 2019  150 dollars   \n",
              "\n",
              "                 nbhood_full                                description  \\\n",
              "0         Manhattan, Midtown                      Skylit Midtown Castle   \n",
              "1     Brooklyn, Clinton Hill            Cozy Entire Floor of Brownstone   \n",
              "2     Manhattan, Murray Hill  Large Cozy 1 BR Apartment In Midtown East   \n",
              "3  Manhattan, Hell's Kitchen            Large Furnished Room Near B'way   \n",
              "4       Manhattan, Chinatown         Cute & Cozy Lower East Side 1 bdrm   \n",
              "\n",
              "         room_type  \n",
              "0  Entire home/apt  \n",
              "1  Entire home/apt  \n",
              "2  Entire home/apt  \n",
              "3     private room  \n",
              "4  Entire home/apt  "
            ],
            "text/html": [
              "\n",
              "  <div id=\"df-e650bf8d-fd1f-4713-a80c-8718a85cb7d8\">\n",
              "    <div class=\"colab-df-container\">\n",
              "      <div>\n",
              "<style scoped>\n",
              "    .dataframe tbody tr th:only-of-type {\n",
              "        vertical-align: middle;\n",
              "    }\n",
              "\n",
              "    .dataframe tbody tr th {\n",
              "        vertical-align: top;\n",
              "    }\n",
              "\n",
              "    .dataframe thead th {\n",
              "        text-align: right;\n",
              "    }\n",
              "</style>\n",
              "<table border=\"1\" class=\"dataframe\">\n",
              "  <thead>\n",
              "    <tr style=\"text-align: right;\">\n",
              "      <th></th>\n",
              "      <th>listing_id</th>\n",
              "      <th>host_name</th>\n",
              "      <th>last_review</th>\n",
              "      <th>price</th>\n",
              "      <th>nbhood_full</th>\n",
              "      <th>description</th>\n",
              "      <th>room_type</th>\n",
              "    </tr>\n",
              "  </thead>\n",
              "  <tbody>\n",
              "    <tr>\n",
              "      <th>0</th>\n",
              "      <td>2595</td>\n",
              "      <td>Jennifer</td>\n",
              "      <td>May 21 2019</td>\n",
              "      <td>225 dollars</td>\n",
              "      <td>Manhattan, Midtown</td>\n",
              "      <td>Skylit Midtown Castle</td>\n",
              "      <td>Entire home/apt</td>\n",
              "    </tr>\n",
              "    <tr>\n",
              "      <th>1</th>\n",
              "      <td>3831</td>\n",
              "      <td>LisaRoxanne</td>\n",
              "      <td>July 05 2019</td>\n",
              "      <td>89 dollars</td>\n",
              "      <td>Brooklyn, Clinton Hill</td>\n",
              "      <td>Cozy Entire Floor of Brownstone</td>\n",
              "      <td>Entire home/apt</td>\n",
              "    </tr>\n",
              "    <tr>\n",
              "      <th>2</th>\n",
              "      <td>5099</td>\n",
              "      <td>Chris</td>\n",
              "      <td>June 22 2019</td>\n",
              "      <td>200 dollars</td>\n",
              "      <td>Manhattan, Murray Hill</td>\n",
              "      <td>Large Cozy 1 BR Apartment In Midtown East</td>\n",
              "      <td>Entire home/apt</td>\n",
              "    </tr>\n",
              "    <tr>\n",
              "      <th>3</th>\n",
              "      <td>5178</td>\n",
              "      <td>Shunichi</td>\n",
              "      <td>June 24 2019</td>\n",
              "      <td>79 dollars</td>\n",
              "      <td>Manhattan, Hell's Kitchen</td>\n",
              "      <td>Large Furnished Room Near B'way</td>\n",
              "      <td>private room</td>\n",
              "    </tr>\n",
              "    <tr>\n",
              "      <th>4</th>\n",
              "      <td>5238</td>\n",
              "      <td>Ben</td>\n",
              "      <td>June 09 2019</td>\n",
              "      <td>150 dollars</td>\n",
              "      <td>Manhattan, Chinatown</td>\n",
              "      <td>Cute &amp; Cozy Lower East Side 1 bdrm</td>\n",
              "      <td>Entire home/apt</td>\n",
              "    </tr>\n",
              "  </tbody>\n",
              "</table>\n",
              "</div>\n",
              "      <button class=\"colab-df-convert\" onclick=\"convertToInteractive('df-e650bf8d-fd1f-4713-a80c-8718a85cb7d8')\"\n",
              "              title=\"Convert this dataframe to an interactive table.\"\n",
              "              style=\"display:none;\">\n",
              "        \n",
              "  <svg xmlns=\"http://www.w3.org/2000/svg\" height=\"24px\"viewBox=\"0 0 24 24\"\n",
              "       width=\"24px\">\n",
              "    <path d=\"M0 0h24v24H0V0z\" fill=\"none\"/>\n",
              "    <path d=\"M18.56 5.44l.94 2.06.94-2.06 2.06-.94-2.06-.94-.94-2.06-.94 2.06-2.06.94zm-11 1L8.5 8.5l.94-2.06 2.06-.94-2.06-.94L8.5 2.5l-.94 2.06-2.06.94zm10 10l.94 2.06.94-2.06 2.06-.94-2.06-.94-.94-2.06-.94 2.06-2.06.94z\"/><path d=\"M17.41 7.96l-1.37-1.37c-.4-.4-.92-.59-1.43-.59-.52 0-1.04.2-1.43.59L10.3 9.45l-7.72 7.72c-.78.78-.78 2.05 0 2.83L4 21.41c.39.39.9.59 1.41.59.51 0 1.02-.2 1.41-.59l7.78-7.78 2.81-2.81c.8-.78.8-2.07 0-2.86zM5.41 20L4 18.59l7.72-7.72 1.47 1.35L5.41 20z\"/>\n",
              "  </svg>\n",
              "      </button>\n",
              "      \n",
              "  <style>\n",
              "    .colab-df-container {\n",
              "      display:flex;\n",
              "      flex-wrap:wrap;\n",
              "      gap: 12px;\n",
              "    }\n",
              "\n",
              "    .colab-df-convert {\n",
              "      background-color: #E8F0FE;\n",
              "      border: none;\n",
              "      border-radius: 50%;\n",
              "      cursor: pointer;\n",
              "      display: none;\n",
              "      fill: #1967D2;\n",
              "      height: 32px;\n",
              "      padding: 0 0 0 0;\n",
              "      width: 32px;\n",
              "    }\n",
              "\n",
              "    .colab-df-convert:hover {\n",
              "      background-color: #E2EBFA;\n",
              "      box-shadow: 0px 1px 2px rgba(60, 64, 67, 0.3), 0px 1px 3px 1px rgba(60, 64, 67, 0.15);\n",
              "      fill: #174EA6;\n",
              "    }\n",
              "\n",
              "    [theme=dark] .colab-df-convert {\n",
              "      background-color: #3B4455;\n",
              "      fill: #D2E3FC;\n",
              "    }\n",
              "\n",
              "    [theme=dark] .colab-df-convert:hover {\n",
              "      background-color: #434B5C;\n",
              "      box-shadow: 0px 1px 3px 1px rgba(0, 0, 0, 0.15);\n",
              "      filter: drop-shadow(0px 1px 2px rgba(0, 0, 0, 0.3));\n",
              "      fill: #FFFFFF;\n",
              "    }\n",
              "  </style>\n",
              "\n",
              "      <script>\n",
              "        const buttonEl =\n",
              "          document.querySelector('#df-e650bf8d-fd1f-4713-a80c-8718a85cb7d8 button.colab-df-convert');\n",
              "        buttonEl.style.display =\n",
              "          google.colab.kernel.accessAllowed ? 'block' : 'none';\n",
              "\n",
              "        async function convertToInteractive(key) {\n",
              "          const element = document.querySelector('#df-e650bf8d-fd1f-4713-a80c-8718a85cb7d8');\n",
              "          const dataTable =\n",
              "            await google.colab.kernel.invokeFunction('convertToInteractive',\n",
              "                                                     [key], {});\n",
              "          if (!dataTable) return;\n",
              "\n",
              "          const docLinkHtml = 'Like what you see? Visit the ' +\n",
              "            '<a target=\"_blank\" href=https://colab.research.google.com/notebooks/data_table.ipynb>data table notebook</a>'\n",
              "            + ' to learn more about interactive tables.';\n",
              "          element.innerHTML = '';\n",
              "          dataTable['output_type'] = 'display_data';\n",
              "          await google.colab.output.renderOutput(dataTable, element);\n",
              "          const docLink = document.createElement('div');\n",
              "          docLink.innerHTML = docLinkHtml;\n",
              "          element.appendChild(docLink);\n",
              "        }\n",
              "      </script>\n",
              "    </div>\n",
              "  </div>\n",
              "  "
            ]
          },
          "metadata": {},
          "execution_count": 12
        }
      ]
    },
    {
      "cell_type": "markdown",
      "source": [
        "# **Exploratory Data Analysis (EDA)**"
      ],
      "metadata": {
        "id": "sVqgKdkWT2qi"
      }
    },
    {
      "cell_type": "code",
      "source": [
        "df.shape # check size data"
      ],
      "metadata": {
        "colab": {
          "base_uri": "https://localhost:8080/"
        },
        "id": "FK3z4GNCT5Nh",
        "outputId": "33a9da61-d412-44a2-d1b2-3ae516ed43d1"
      },
      "execution_count": 13,
      "outputs": [
        {
          "output_type": "execute_result",
          "data": {
            "text/plain": [
              "(25209, 7)"
            ]
          },
          "metadata": {},
          "execution_count": 13
        }
      ]
    },
    {
      "cell_type": "code",
      "source": [
        "df.info()"
      ],
      "metadata": {
        "colab": {
          "base_uri": "https://localhost:8080/"
        },
        "id": "R1QVxqfwT9QJ",
        "outputId": "3b760a7d-d3a0-4e71-f162-1cf89ddc7e1e"
      },
      "execution_count": 14,
      "outputs": [
        {
          "output_type": "stream",
          "name": "stdout",
          "text": [
            "<class 'pandas.core.frame.DataFrame'>\n",
            "Int64Index: 25209 entries, 0 to 25208\n",
            "Data columns (total 7 columns):\n",
            " #   Column       Non-Null Count  Dtype \n",
            "---  ------       --------------  ----- \n",
            " 0   listing_id   25209 non-null  int64 \n",
            " 1   host_name    25201 non-null  object\n",
            " 2   last_review  25209 non-null  object\n",
            " 3   price        25209 non-null  object\n",
            " 4   nbhood_full  25209 non-null  object\n",
            " 5   description  25199 non-null  object\n",
            " 6   room_type    25209 non-null  object\n",
            "dtypes: int64(1), object(6)\n",
            "memory usage: 1.5+ MB\n"
          ]
        }
      ]
    },
    {
      "cell_type": "code",
      "source": [
        "df.isnull().sum() # check null data"
      ],
      "metadata": {
        "colab": {
          "base_uri": "https://localhost:8080/"
        },
        "id": "LOMdrAgKUCs4",
        "outputId": "8009c6a9-b717-41c9-f8f4-f8156cdd18d5"
      },
      "execution_count": 15,
      "outputs": [
        {
          "output_type": "execute_result",
          "data": {
            "text/plain": [
              "listing_id      0\n",
              "host_name       8\n",
              "last_review     0\n",
              "price           0\n",
              "nbhood_full     0\n",
              "description    10\n",
              "room_type       0\n",
              "dtype: int64"
            ]
          },
          "metadata": {},
          "execution_count": 15
        }
      ]
    },
    {
      "cell_type": "code",
      "source": [
        "df[df.isnull().any(axis=1)] #show null data"
      ],
      "metadata": {
        "colab": {
          "base_uri": "https://localhost:8080/",
          "height": 613
        },
        "id": "6sugN93HULZx",
        "outputId": "e75fd5c3-d02f-4829-f8aa-35496a016171"
      },
      "execution_count": 16,
      "outputs": [
        {
          "output_type": "execute_result",
          "data": {
            "text/plain": [
              "       listing_id         host_name      last_review        price  \\\n",
              "263        100184               NaN     July 08 2019   50 dollars   \n",
              "3040      4183989               NaN      May 23 2019   86 dollars   \n",
              "4039      6292866               NaN     June 19 2019   85 dollars   \n",
              "4269      6786181               NaN     June 19 2019  100 dollars   \n",
              "4688      7851219              John     June 18 2019   60 dollars   \n",
              "4690      7854307              John     June 15 2019   60 dollars   \n",
              "4696      7858673              John     June 08 2019   60 dollars   \n",
              "4707      7873655              John     June 21 2019   60 dollars   \n",
              "4709      7886635              John     June 18 2019   60 dollars   \n",
              "4717      7901635              John     June 23 2019   60 dollars   \n",
              "4829      8192443              John     June 23 2019   60 dollars   \n",
              "4901      8341556          Gordon M      May 26 2019   55 dollars   \n",
              "5496      9698992          Gordon M     June 14 2019   62 dollars   \n",
              "6338     12113879               NaN     July 02 2019  220 dollars   \n",
              "8060     15648096               NaN     July 07 2019   75 dollars   \n",
              "11986    21733545  Sybilla Michelle     June 30 2019  175 dollars   \n",
              "12128    21867710               NaN  January 01 2019  120 dollars   \n",
              "12164    21901156               NaN  January 01 2019  120 dollars   \n",
              "\n",
              "                     nbhood_full  \\\n",
              "263       Queens, Queens Village   \n",
              "3040           Manhattan, Harlem   \n",
              "4039     Brooklyn, East Flatbush   \n",
              "4269     Brooklyn, East Flatbush   \n",
              "4688      Brooklyn, Williamsburg   \n",
              "4690      Brooklyn, Williamsburg   \n",
              "4696      Brooklyn, Williamsburg   \n",
              "4707      Brooklyn, Williamsburg   \n",
              "4709      Brooklyn, Williamsburg   \n",
              "4717      Brooklyn, Williamsburg   \n",
              "4829      Brooklyn, Williamsburg   \n",
              "4901           Manhattan, Harlem   \n",
              "5496           Manhattan, Harlem   \n",
              "6338          Manhattan, Chelsea   \n",
              "8060           Bronx, Highbridge   \n",
              "11986  Manhattan, Hell's Kitchen   \n",
              "12128  Manhattan, Hell's Kitchen   \n",
              "12164  Manhattan, Hell's Kitchen   \n",
              "\n",
              "                                             description        room_type  \n",
              "263                                            Bienvenue     private room  \n",
              "3040     SPRING in the City!! Zen-Style Tranquil Bedroom     Private room  \n",
              "4039                           Modern Quiet Gem Near All  entire home/apt  \n",
              "4269                        R&S Modern Spacious Hideaway  Entire home/apt  \n",
              "4688                                                 NaN     PRIVATE ROOM  \n",
              "4690                                                 NaN     private room  \n",
              "4696                                                 NaN     Private room  \n",
              "4707                                                 NaN     PRIVATE ROOM  \n",
              "4709                                                 NaN     Private room  \n",
              "4717                                                 NaN     Private room  \n",
              "4829                                                 NaN     private room  \n",
              "4901                                                 NaN     Private room  \n",
              "5496                                                 NaN     private room  \n",
              "6338      Sunny, Large West Village 1 BR Near Everything  Entire home/apt  \n",
              "8060               Spacious 2 bedroom close to Manhattan  Entire home/apt  \n",
              "11986                                                NaN     Private room  \n",
              "12128  Amazing room in the centre on Manhatten! Welcome!     Private room  \n",
              "12164  Best Deal! Lovely place in Manhattan! Time Squ...     Private room  "
            ],
            "text/html": [
              "\n",
              "  <div id=\"df-153ba70c-1937-4de4-94e8-e4b1f2c41a72\">\n",
              "    <div class=\"colab-df-container\">\n",
              "      <div>\n",
              "<style scoped>\n",
              "    .dataframe tbody tr th:only-of-type {\n",
              "        vertical-align: middle;\n",
              "    }\n",
              "\n",
              "    .dataframe tbody tr th {\n",
              "        vertical-align: top;\n",
              "    }\n",
              "\n",
              "    .dataframe thead th {\n",
              "        text-align: right;\n",
              "    }\n",
              "</style>\n",
              "<table border=\"1\" class=\"dataframe\">\n",
              "  <thead>\n",
              "    <tr style=\"text-align: right;\">\n",
              "      <th></th>\n",
              "      <th>listing_id</th>\n",
              "      <th>host_name</th>\n",
              "      <th>last_review</th>\n",
              "      <th>price</th>\n",
              "      <th>nbhood_full</th>\n",
              "      <th>description</th>\n",
              "      <th>room_type</th>\n",
              "    </tr>\n",
              "  </thead>\n",
              "  <tbody>\n",
              "    <tr>\n",
              "      <th>263</th>\n",
              "      <td>100184</td>\n",
              "      <td>NaN</td>\n",
              "      <td>July 08 2019</td>\n",
              "      <td>50 dollars</td>\n",
              "      <td>Queens, Queens Village</td>\n",
              "      <td>Bienvenue</td>\n",
              "      <td>private room</td>\n",
              "    </tr>\n",
              "    <tr>\n",
              "      <th>3040</th>\n",
              "      <td>4183989</td>\n",
              "      <td>NaN</td>\n",
              "      <td>May 23 2019</td>\n",
              "      <td>86 dollars</td>\n",
              "      <td>Manhattan, Harlem</td>\n",
              "      <td>SPRING in the City!! Zen-Style Tranquil Bedroom</td>\n",
              "      <td>Private room</td>\n",
              "    </tr>\n",
              "    <tr>\n",
              "      <th>4039</th>\n",
              "      <td>6292866</td>\n",
              "      <td>NaN</td>\n",
              "      <td>June 19 2019</td>\n",
              "      <td>85 dollars</td>\n",
              "      <td>Brooklyn, East Flatbush</td>\n",
              "      <td>Modern Quiet Gem Near All</td>\n",
              "      <td>entire home/apt</td>\n",
              "    </tr>\n",
              "    <tr>\n",
              "      <th>4269</th>\n",
              "      <td>6786181</td>\n",
              "      <td>NaN</td>\n",
              "      <td>June 19 2019</td>\n",
              "      <td>100 dollars</td>\n",
              "      <td>Brooklyn, East Flatbush</td>\n",
              "      <td>R&amp;S Modern Spacious Hideaway</td>\n",
              "      <td>Entire home/apt</td>\n",
              "    </tr>\n",
              "    <tr>\n",
              "      <th>4688</th>\n",
              "      <td>7851219</td>\n",
              "      <td>John</td>\n",
              "      <td>June 18 2019</td>\n",
              "      <td>60 dollars</td>\n",
              "      <td>Brooklyn, Williamsburg</td>\n",
              "      <td>NaN</td>\n",
              "      <td>PRIVATE ROOM</td>\n",
              "    </tr>\n",
              "    <tr>\n",
              "      <th>4690</th>\n",
              "      <td>7854307</td>\n",
              "      <td>John</td>\n",
              "      <td>June 15 2019</td>\n",
              "      <td>60 dollars</td>\n",
              "      <td>Brooklyn, Williamsburg</td>\n",
              "      <td>NaN</td>\n",
              "      <td>private room</td>\n",
              "    </tr>\n",
              "    <tr>\n",
              "      <th>4696</th>\n",
              "      <td>7858673</td>\n",
              "      <td>John</td>\n",
              "      <td>June 08 2019</td>\n",
              "      <td>60 dollars</td>\n",
              "      <td>Brooklyn, Williamsburg</td>\n",
              "      <td>NaN</td>\n",
              "      <td>Private room</td>\n",
              "    </tr>\n",
              "    <tr>\n",
              "      <th>4707</th>\n",
              "      <td>7873655</td>\n",
              "      <td>John</td>\n",
              "      <td>June 21 2019</td>\n",
              "      <td>60 dollars</td>\n",
              "      <td>Brooklyn, Williamsburg</td>\n",
              "      <td>NaN</td>\n",
              "      <td>PRIVATE ROOM</td>\n",
              "    </tr>\n",
              "    <tr>\n",
              "      <th>4709</th>\n",
              "      <td>7886635</td>\n",
              "      <td>John</td>\n",
              "      <td>June 18 2019</td>\n",
              "      <td>60 dollars</td>\n",
              "      <td>Brooklyn, Williamsburg</td>\n",
              "      <td>NaN</td>\n",
              "      <td>Private room</td>\n",
              "    </tr>\n",
              "    <tr>\n",
              "      <th>4717</th>\n",
              "      <td>7901635</td>\n",
              "      <td>John</td>\n",
              "      <td>June 23 2019</td>\n",
              "      <td>60 dollars</td>\n",
              "      <td>Brooklyn, Williamsburg</td>\n",
              "      <td>NaN</td>\n",
              "      <td>Private room</td>\n",
              "    </tr>\n",
              "    <tr>\n",
              "      <th>4829</th>\n",
              "      <td>8192443</td>\n",
              "      <td>John</td>\n",
              "      <td>June 23 2019</td>\n",
              "      <td>60 dollars</td>\n",
              "      <td>Brooklyn, Williamsburg</td>\n",
              "      <td>NaN</td>\n",
              "      <td>private room</td>\n",
              "    </tr>\n",
              "    <tr>\n",
              "      <th>4901</th>\n",
              "      <td>8341556</td>\n",
              "      <td>Gordon M</td>\n",
              "      <td>May 26 2019</td>\n",
              "      <td>55 dollars</td>\n",
              "      <td>Manhattan, Harlem</td>\n",
              "      <td>NaN</td>\n",
              "      <td>Private room</td>\n",
              "    </tr>\n",
              "    <tr>\n",
              "      <th>5496</th>\n",
              "      <td>9698992</td>\n",
              "      <td>Gordon M</td>\n",
              "      <td>June 14 2019</td>\n",
              "      <td>62 dollars</td>\n",
              "      <td>Manhattan, Harlem</td>\n",
              "      <td>NaN</td>\n",
              "      <td>private room</td>\n",
              "    </tr>\n",
              "    <tr>\n",
              "      <th>6338</th>\n",
              "      <td>12113879</td>\n",
              "      <td>NaN</td>\n",
              "      <td>July 02 2019</td>\n",
              "      <td>220 dollars</td>\n",
              "      <td>Manhattan, Chelsea</td>\n",
              "      <td>Sunny, Large West Village 1 BR Near Everything</td>\n",
              "      <td>Entire home/apt</td>\n",
              "    </tr>\n",
              "    <tr>\n",
              "      <th>8060</th>\n",
              "      <td>15648096</td>\n",
              "      <td>NaN</td>\n",
              "      <td>July 07 2019</td>\n",
              "      <td>75 dollars</td>\n",
              "      <td>Bronx, Highbridge</td>\n",
              "      <td>Spacious 2 bedroom close to Manhattan</td>\n",
              "      <td>Entire home/apt</td>\n",
              "    </tr>\n",
              "    <tr>\n",
              "      <th>11986</th>\n",
              "      <td>21733545</td>\n",
              "      <td>Sybilla Michelle</td>\n",
              "      <td>June 30 2019</td>\n",
              "      <td>175 dollars</td>\n",
              "      <td>Manhattan, Hell's Kitchen</td>\n",
              "      <td>NaN</td>\n",
              "      <td>Private room</td>\n",
              "    </tr>\n",
              "    <tr>\n",
              "      <th>12128</th>\n",
              "      <td>21867710</td>\n",
              "      <td>NaN</td>\n",
              "      <td>January 01 2019</td>\n",
              "      <td>120 dollars</td>\n",
              "      <td>Manhattan, Hell's Kitchen</td>\n",
              "      <td>Amazing room in the centre on Manhatten! Welcome!</td>\n",
              "      <td>Private room</td>\n",
              "    </tr>\n",
              "    <tr>\n",
              "      <th>12164</th>\n",
              "      <td>21901156</td>\n",
              "      <td>NaN</td>\n",
              "      <td>January 01 2019</td>\n",
              "      <td>120 dollars</td>\n",
              "      <td>Manhattan, Hell's Kitchen</td>\n",
              "      <td>Best Deal! Lovely place in Manhattan! Time Squ...</td>\n",
              "      <td>Private room</td>\n",
              "    </tr>\n",
              "  </tbody>\n",
              "</table>\n",
              "</div>\n",
              "      <button class=\"colab-df-convert\" onclick=\"convertToInteractive('df-153ba70c-1937-4de4-94e8-e4b1f2c41a72')\"\n",
              "              title=\"Convert this dataframe to an interactive table.\"\n",
              "              style=\"display:none;\">\n",
              "        \n",
              "  <svg xmlns=\"http://www.w3.org/2000/svg\" height=\"24px\"viewBox=\"0 0 24 24\"\n",
              "       width=\"24px\">\n",
              "    <path d=\"M0 0h24v24H0V0z\" fill=\"none\"/>\n",
              "    <path d=\"M18.56 5.44l.94 2.06.94-2.06 2.06-.94-2.06-.94-.94-2.06-.94 2.06-2.06.94zm-11 1L8.5 8.5l.94-2.06 2.06-.94-2.06-.94L8.5 2.5l-.94 2.06-2.06.94zm10 10l.94 2.06.94-2.06 2.06-.94-2.06-.94-.94-2.06-.94 2.06-2.06.94z\"/><path d=\"M17.41 7.96l-1.37-1.37c-.4-.4-.92-.59-1.43-.59-.52 0-1.04.2-1.43.59L10.3 9.45l-7.72 7.72c-.78.78-.78 2.05 0 2.83L4 21.41c.39.39.9.59 1.41.59.51 0 1.02-.2 1.41-.59l7.78-7.78 2.81-2.81c.8-.78.8-2.07 0-2.86zM5.41 20L4 18.59l7.72-7.72 1.47 1.35L5.41 20z\"/>\n",
              "  </svg>\n",
              "      </button>\n",
              "      \n",
              "  <style>\n",
              "    .colab-df-container {\n",
              "      display:flex;\n",
              "      flex-wrap:wrap;\n",
              "      gap: 12px;\n",
              "    }\n",
              "\n",
              "    .colab-df-convert {\n",
              "      background-color: #E8F0FE;\n",
              "      border: none;\n",
              "      border-radius: 50%;\n",
              "      cursor: pointer;\n",
              "      display: none;\n",
              "      fill: #1967D2;\n",
              "      height: 32px;\n",
              "      padding: 0 0 0 0;\n",
              "      width: 32px;\n",
              "    }\n",
              "\n",
              "    .colab-df-convert:hover {\n",
              "      background-color: #E2EBFA;\n",
              "      box-shadow: 0px 1px 2px rgba(60, 64, 67, 0.3), 0px 1px 3px 1px rgba(60, 64, 67, 0.15);\n",
              "      fill: #174EA6;\n",
              "    }\n",
              "\n",
              "    [theme=dark] .colab-df-convert {\n",
              "      background-color: #3B4455;\n",
              "      fill: #D2E3FC;\n",
              "    }\n",
              "\n",
              "    [theme=dark] .colab-df-convert:hover {\n",
              "      background-color: #434B5C;\n",
              "      box-shadow: 0px 1px 3px 1px rgba(0, 0, 0, 0.15);\n",
              "      filter: drop-shadow(0px 1px 2px rgba(0, 0, 0, 0.3));\n",
              "      fill: #FFFFFF;\n",
              "    }\n",
              "  </style>\n",
              "\n",
              "      <script>\n",
              "        const buttonEl =\n",
              "          document.querySelector('#df-153ba70c-1937-4de4-94e8-e4b1f2c41a72 button.colab-df-convert');\n",
              "        buttonEl.style.display =\n",
              "          google.colab.kernel.accessAllowed ? 'block' : 'none';\n",
              "\n",
              "        async function convertToInteractive(key) {\n",
              "          const element = document.querySelector('#df-153ba70c-1937-4de4-94e8-e4b1f2c41a72');\n",
              "          const dataTable =\n",
              "            await google.colab.kernel.invokeFunction('convertToInteractive',\n",
              "                                                     [key], {});\n",
              "          if (!dataTable) return;\n",
              "\n",
              "          const docLinkHtml = 'Like what you see? Visit the ' +\n",
              "            '<a target=\"_blank\" href=https://colab.research.google.com/notebooks/data_table.ipynb>data table notebook</a>'\n",
              "            + ' to learn more about interactive tables.';\n",
              "          element.innerHTML = '';\n",
              "          dataTable['output_type'] = 'display_data';\n",
              "          await google.colab.output.renderOutput(dataTable, element);\n",
              "          const docLink = document.createElement('div');\n",
              "          docLink.innerHTML = docLinkHtml;\n",
              "          element.appendChild(docLink);\n",
              "        }\n",
              "      </script>\n",
              "    </div>\n",
              "  </div>\n",
              "  "
            ]
          },
          "metadata": {},
          "execution_count": 16
        }
      ]
    },
    {
      "cell_type": "code",
      "source": [
        "df.dropna(inplace=True) #drop null data"
      ],
      "metadata": {
        "id": "lw3qPYhmWAjh"
      },
      "execution_count": 17,
      "outputs": []
    },
    {
      "cell_type": "code",
      "source": [
        "df.isnull().sum()"
      ],
      "metadata": {
        "colab": {
          "base_uri": "https://localhost:8080/"
        },
        "id": "0wB4CF1zWOpo",
        "outputId": "0e4543e2-323c-474f-8658-78c495083227"
      },
      "execution_count": 18,
      "outputs": [
        {
          "output_type": "execute_result",
          "data": {
            "text/plain": [
              "listing_id     0\n",
              "host_name      0\n",
              "last_review    0\n",
              "price          0\n",
              "nbhood_full    0\n",
              "description    0\n",
              "room_type      0\n",
              "dtype: int64"
            ]
          },
          "metadata": {},
          "execution_count": 18
        }
      ]
    },
    {
      "cell_type": "code",
      "source": [
        "df.shape"
      ],
      "metadata": {
        "colab": {
          "base_uri": "https://localhost:8080/"
        },
        "id": "8dYfBXb8WSPh",
        "outputId": "40537ac5-eac9-4813-cfbc-e62af88f6fe3"
      },
      "execution_count": 19,
      "outputs": [
        {
          "output_type": "execute_result",
          "data": {
            "text/plain": [
              "(25191, 7)"
            ]
          },
          "metadata": {},
          "execution_count": 19
        }
      ]
    },
    {
      "cell_type": "markdown",
      "source": [
        "# **Data Preprocessing**"
      ],
      "metadata": {
        "id": "sjYRYRexYmCE"
      }
    },
    {
      "cell_type": "markdown",
      "source": [
        "**price**"
      ],
      "metadata": {
        "id": "TkbtHl7syM0b"
      }
    },
    {
      "cell_type": "code",
      "source": [
        "#romiving 'dollars' \n",
        "df['price'].replace('dollars','',regex=True, inplace=True)\n",
        "\n",
        "#remove space\n",
        "df['price'] = df['price'].str.strip()\n",
        "\n",
        "#change type data\n",
        "df['price'] = df['price'].astype('int64')"
      ],
      "metadata": {
        "id": "p-oLavz2Ylli"
      },
      "execution_count": 20,
      "outputs": []
    },
    {
      "cell_type": "code",
      "source": [
        "df[df['price'] == 0] #check price == 0"
      ],
      "metadata": {
        "colab": {
          "base_uri": "https://localhost:8080/",
          "height": 269
        },
        "id": "OrWYL1bQirXZ",
        "outputId": "2c88f0ca-14f3-415d-9a05-d58e44859802"
      },
      "execution_count": 37,
      "outputs": [
        {
          "output_type": "execute_result",
          "data": {
            "text/plain": [
              "       listing_id     host_name last_review  price  \\\n",
              "10861    20333471        Anisha  2019-06-24      0   \n",
              "10958    20523843  Martial Loft  2019-05-18      0   \n",
              "11023    20639628       Adeyemi  2019-06-15      0   \n",
              "11024    20639792       Adeyemi  2019-06-21      0   \n",
              "11025    20639914       Adeyemi  2019-06-23      0   \n",
              "11577    21291569        Sergii  2019-06-22      0   \n",
              "11589    21304320        Sergii  2019-05-24      0   \n",
              "\n",
              "                        nbhood_full  \\\n",
              "10861        Bronx, East Morrisania   \n",
              "10958            Brooklyn, Bushwick   \n",
              "11023  Brooklyn, Bedford-Stuyvesant   \n",
              "11024  Brooklyn, Bedford-Stuyvesant   \n",
              "11025  Brooklyn, Bedford-Stuyvesant   \n",
              "11577            Brooklyn, Bushwick   \n",
              "11589            Brooklyn, Bushwick   \n",
              "\n",
              "                                             description     room_type  \\\n",
              "10861  ‚òÖHostel Style Room | Ideal Traveling Buddies‚òÖ  private room   \n",
              "10958    MARTIAL LOFT 3: REDEMPTION (upstairs, 2nd room)  private room   \n",
              "11023  Spacious comfortable master bedroom with nice ...  private room   \n",
              "11024  Contemporary bedroom in brownstone with nice view  private room   \n",
              "11025       Cozy yet spacious private brownstone bedroom  private room   \n",
              "11577  Coliving in Brooklyn! Modern design / Shared room   shared room   \n",
              "11589             Best Coliving space ever! Shared room.   shared room   \n",
              "\n",
              "           city                area  \n",
              "10861     Bronx     East Morrisania  \n",
              "10958  Brooklyn            Bushwick  \n",
              "11023  Brooklyn  Bedford-Stuyvesant  \n",
              "11024  Brooklyn  Bedford-Stuyvesant  \n",
              "11025  Brooklyn  Bedford-Stuyvesant  \n",
              "11577  Brooklyn            Bushwick  \n",
              "11589  Brooklyn            Bushwick  "
            ],
            "text/html": [
              "\n",
              "  <div id=\"df-b563e483-fb7d-4d9a-aabc-02285277a4cd\">\n",
              "    <div class=\"colab-df-container\">\n",
              "      <div>\n",
              "<style scoped>\n",
              "    .dataframe tbody tr th:only-of-type {\n",
              "        vertical-align: middle;\n",
              "    }\n",
              "\n",
              "    .dataframe tbody tr th {\n",
              "        vertical-align: top;\n",
              "    }\n",
              "\n",
              "    .dataframe thead th {\n",
              "        text-align: right;\n",
              "    }\n",
              "</style>\n",
              "<table border=\"1\" class=\"dataframe\">\n",
              "  <thead>\n",
              "    <tr style=\"text-align: right;\">\n",
              "      <th></th>\n",
              "      <th>listing_id</th>\n",
              "      <th>host_name</th>\n",
              "      <th>last_review</th>\n",
              "      <th>price</th>\n",
              "      <th>nbhood_full</th>\n",
              "      <th>description</th>\n",
              "      <th>room_type</th>\n",
              "      <th>city</th>\n",
              "      <th>area</th>\n",
              "    </tr>\n",
              "  </thead>\n",
              "  <tbody>\n",
              "    <tr>\n",
              "      <th>10861</th>\n",
              "      <td>20333471</td>\n",
              "      <td>Anisha</td>\n",
              "      <td>2019-06-24</td>\n",
              "      <td>0</td>\n",
              "      <td>Bronx, East Morrisania</td>\n",
              "      <td>‚òÖHostel Style Room | Ideal Traveling Buddies‚òÖ</td>\n",
              "      <td>private room</td>\n",
              "      <td>Bronx</td>\n",
              "      <td>East Morrisania</td>\n",
              "    </tr>\n",
              "    <tr>\n",
              "      <th>10958</th>\n",
              "      <td>20523843</td>\n",
              "      <td>Martial Loft</td>\n",
              "      <td>2019-05-18</td>\n",
              "      <td>0</td>\n",
              "      <td>Brooklyn, Bushwick</td>\n",
              "      <td>MARTIAL LOFT 3: REDEMPTION (upstairs, 2nd room)</td>\n",
              "      <td>private room</td>\n",
              "      <td>Brooklyn</td>\n",
              "      <td>Bushwick</td>\n",
              "    </tr>\n",
              "    <tr>\n",
              "      <th>11023</th>\n",
              "      <td>20639628</td>\n",
              "      <td>Adeyemi</td>\n",
              "      <td>2019-06-15</td>\n",
              "      <td>0</td>\n",
              "      <td>Brooklyn, Bedford-Stuyvesant</td>\n",
              "      <td>Spacious comfortable master bedroom with nice ...</td>\n",
              "      <td>private room</td>\n",
              "      <td>Brooklyn</td>\n",
              "      <td>Bedford-Stuyvesant</td>\n",
              "    </tr>\n",
              "    <tr>\n",
              "      <th>11024</th>\n",
              "      <td>20639792</td>\n",
              "      <td>Adeyemi</td>\n",
              "      <td>2019-06-21</td>\n",
              "      <td>0</td>\n",
              "      <td>Brooklyn, Bedford-Stuyvesant</td>\n",
              "      <td>Contemporary bedroom in brownstone with nice view</td>\n",
              "      <td>private room</td>\n",
              "      <td>Brooklyn</td>\n",
              "      <td>Bedford-Stuyvesant</td>\n",
              "    </tr>\n",
              "    <tr>\n",
              "      <th>11025</th>\n",
              "      <td>20639914</td>\n",
              "      <td>Adeyemi</td>\n",
              "      <td>2019-06-23</td>\n",
              "      <td>0</td>\n",
              "      <td>Brooklyn, Bedford-Stuyvesant</td>\n",
              "      <td>Cozy yet spacious private brownstone bedroom</td>\n",
              "      <td>private room</td>\n",
              "      <td>Brooklyn</td>\n",
              "      <td>Bedford-Stuyvesant</td>\n",
              "    </tr>\n",
              "    <tr>\n",
              "      <th>11577</th>\n",
              "      <td>21291569</td>\n",
              "      <td>Sergii</td>\n",
              "      <td>2019-06-22</td>\n",
              "      <td>0</td>\n",
              "      <td>Brooklyn, Bushwick</td>\n",
              "      <td>Coliving in Brooklyn! Modern design / Shared room</td>\n",
              "      <td>shared room</td>\n",
              "      <td>Brooklyn</td>\n",
              "      <td>Bushwick</td>\n",
              "    </tr>\n",
              "    <tr>\n",
              "      <th>11589</th>\n",
              "      <td>21304320</td>\n",
              "      <td>Sergii</td>\n",
              "      <td>2019-05-24</td>\n",
              "      <td>0</td>\n",
              "      <td>Brooklyn, Bushwick</td>\n",
              "      <td>Best Coliving space ever! Shared room.</td>\n",
              "      <td>shared room</td>\n",
              "      <td>Brooklyn</td>\n",
              "      <td>Bushwick</td>\n",
              "    </tr>\n",
              "  </tbody>\n",
              "</table>\n",
              "</div>\n",
              "      <button class=\"colab-df-convert\" onclick=\"convertToInteractive('df-b563e483-fb7d-4d9a-aabc-02285277a4cd')\"\n",
              "              title=\"Convert this dataframe to an interactive table.\"\n",
              "              style=\"display:none;\">\n",
              "        \n",
              "  <svg xmlns=\"http://www.w3.org/2000/svg\" height=\"24px\"viewBox=\"0 0 24 24\"\n",
              "       width=\"24px\">\n",
              "    <path d=\"M0 0h24v24H0V0z\" fill=\"none\"/>\n",
              "    <path d=\"M18.56 5.44l.94 2.06.94-2.06 2.06-.94-2.06-.94-.94-2.06-.94 2.06-2.06.94zm-11 1L8.5 8.5l.94-2.06 2.06-.94-2.06-.94L8.5 2.5l-.94 2.06-2.06.94zm10 10l.94 2.06.94-2.06 2.06-.94-2.06-.94-.94-2.06-.94 2.06-2.06.94z\"/><path d=\"M17.41 7.96l-1.37-1.37c-.4-.4-.92-.59-1.43-.59-.52 0-1.04.2-1.43.59L10.3 9.45l-7.72 7.72c-.78.78-.78 2.05 0 2.83L4 21.41c.39.39.9.59 1.41.59.51 0 1.02-.2 1.41-.59l7.78-7.78 2.81-2.81c.8-.78.8-2.07 0-2.86zM5.41 20L4 18.59l7.72-7.72 1.47 1.35L5.41 20z\"/>\n",
              "  </svg>\n",
              "      </button>\n",
              "      \n",
              "  <style>\n",
              "    .colab-df-container {\n",
              "      display:flex;\n",
              "      flex-wrap:wrap;\n",
              "      gap: 12px;\n",
              "    }\n",
              "\n",
              "    .colab-df-convert {\n",
              "      background-color: #E8F0FE;\n",
              "      border: none;\n",
              "      border-radius: 50%;\n",
              "      cursor: pointer;\n",
              "      display: none;\n",
              "      fill: #1967D2;\n",
              "      height: 32px;\n",
              "      padding: 0 0 0 0;\n",
              "      width: 32px;\n",
              "    }\n",
              "\n",
              "    .colab-df-convert:hover {\n",
              "      background-color: #E2EBFA;\n",
              "      box-shadow: 0px 1px 2px rgba(60, 64, 67, 0.3), 0px 1px 3px 1px rgba(60, 64, 67, 0.15);\n",
              "      fill: #174EA6;\n",
              "    }\n",
              "\n",
              "    [theme=dark] .colab-df-convert {\n",
              "      background-color: #3B4455;\n",
              "      fill: #D2E3FC;\n",
              "    }\n",
              "\n",
              "    [theme=dark] .colab-df-convert:hover {\n",
              "      background-color: #434B5C;\n",
              "      box-shadow: 0px 1px 3px 1px rgba(0, 0, 0, 0.15);\n",
              "      filter: drop-shadow(0px 1px 2px rgba(0, 0, 0, 0.3));\n",
              "      fill: #FFFFFF;\n",
              "    }\n",
              "  </style>\n",
              "\n",
              "      <script>\n",
              "        const buttonEl =\n",
              "          document.querySelector('#df-b563e483-fb7d-4d9a-aabc-02285277a4cd button.colab-df-convert');\n",
              "        buttonEl.style.display =\n",
              "          google.colab.kernel.accessAllowed ? 'block' : 'none';\n",
              "\n",
              "        async function convertToInteractive(key) {\n",
              "          const element = document.querySelector('#df-b563e483-fb7d-4d9a-aabc-02285277a4cd');\n",
              "          const dataTable =\n",
              "            await google.colab.kernel.invokeFunction('convertToInteractive',\n",
              "                                                     [key], {});\n",
              "          if (!dataTable) return;\n",
              "\n",
              "          const docLinkHtml = 'Like what you see? Visit the ' +\n",
              "            '<a target=\"_blank\" href=https://colab.research.google.com/notebooks/data_table.ipynb>data table notebook</a>'\n",
              "            + ' to learn more about interactive tables.';\n",
              "          element.innerHTML = '';\n",
              "          dataTable['output_type'] = 'display_data';\n",
              "          await google.colab.output.renderOutput(dataTable, element);\n",
              "          const docLink = document.createElement('div');\n",
              "          docLink.innerHTML = docLinkHtml;\n",
              "          element.appendChild(docLink);\n",
              "        }\n",
              "      </script>\n",
              "    </div>\n",
              "  </div>\n",
              "  "
            ]
          },
          "metadata": {},
          "execution_count": 37
        }
      ]
    },
    {
      "cell_type": "code",
      "source": [
        "df[df['price'] == 0] = df['price'].mean() # Fill in the data using averages."
      ],
      "metadata": {
        "id": "d0L2xUqLiyuo"
      },
      "execution_count": 38,
      "outputs": []
    },
    {
      "cell_type": "markdown",
      "source": [
        "**last_review**"
      ],
      "metadata": {
        "id": "uNKYBOZiyTul"
      }
    },
    {
      "cell_type": "code",
      "source": [
        "# convert the 'last_review' column to datetime format\n",
        "df['last_review']= pd.to_datetime(df['last_review']) # yyyy-mm-dd"
      ],
      "metadata": {
        "id": "QMWCYwUemVdi"
      },
      "execution_count": 21,
      "outputs": []
    },
    {
      "cell_type": "code",
      "source": [
        "df.info()"
      ],
      "metadata": {
        "id": "s7zFcM8WpqlS",
        "outputId": "7e158849-ebc0-4291-d009-30d4aaef0504",
        "colab": {
          "base_uri": "https://localhost:8080/"
        }
      },
      "execution_count": 22,
      "outputs": [
        {
          "output_type": "stream",
          "name": "stdout",
          "text": [
            "<class 'pandas.core.frame.DataFrame'>\n",
            "Int64Index: 25191 entries, 0 to 25208\n",
            "Data columns (total 7 columns):\n",
            " #   Column       Non-Null Count  Dtype         \n",
            "---  ------       --------------  -----         \n",
            " 0   listing_id   25191 non-null  int64         \n",
            " 1   host_name    25191 non-null  object        \n",
            " 2   last_review  25191 non-null  datetime64[ns]\n",
            " 3   price        25191 non-null  int64         \n",
            " 4   nbhood_full  25191 non-null  object        \n",
            " 5   description  25191 non-null  object        \n",
            " 6   room_type    25191 non-null  object        \n",
            "dtypes: datetime64[ns](1), int64(2), object(4)\n",
            "memory usage: 1.5+ MB\n"
          ]
        }
      ]
    },
    {
      "cell_type": "markdown",
      "source": [
        "**new column ['city' , 'area'] from nbhood_full (neighborhood area name)**"
      ],
      "metadata": {
        "id": "dwWllWFkyVx6"
      }
    },
    {
      "cell_type": "code",
      "source": [
        "# new column 'city' \n",
        "df['city'] = df['nbhood_full'].str.extract('(^.{1,},)') # select regular expression to new column 'city'\n",
        "df['city'].replace(',','',regex=True, inplace=True) # replace ',' to space\n",
        "df['city'] = df['city'].str.strip() # Remove spaces \n",
        "\n",
        "# new column 'area'\n",
        "df['area'] = df['nbhood_full'].str.extract('(, .{1,})') # select regular expression to new column 'area'\n",
        "df['area'].replace(',','',regex=True, inplace=True) # replace ',' to space\n",
        "df['area'] = df['area'].str.strip() # Remove spaces "
      ],
      "metadata": {
        "id": "OGdBIgBetb99"
      },
      "execution_count": 23,
      "outputs": []
    },
    {
      "cell_type": "code",
      "source": [
        "df['city'].sort_values().unique()"
      ],
      "metadata": {
        "colab": {
          "base_uri": "https://localhost:8080/"
        },
        "id": "41kz9f8H044c",
        "outputId": "2f974a3b-7dd6-4c00-96fa-70a931bfce87"
      },
      "execution_count": 24,
      "outputs": [
        {
          "output_type": "execute_result",
          "data": {
            "text/plain": [
              "array(['Bronx', 'Brooklyn', 'Manhattan', 'Queens', 'Staten Island',\n",
              "       'Staten Island Bay Terrace'], dtype=object)"
            ]
          },
          "metadata": {},
          "execution_count": 24
        }
      ]
    },
    {
      "cell_type": "code",
      "source": [
        "df['area'].sort_values().unique()"
      ],
      "metadata": {
        "colab": {
          "base_uri": "https://localhost:8080/"
        },
        "id": "HphAG4vp3VQO",
        "outputId": "51ca9208-1f13-4ad5-ba86-dd133da94835"
      },
      "execution_count": 25,
      "outputs": [
        {
          "output_type": "execute_result",
          "data": {
            "text/plain": [
              "array(['Allerton', 'Arden Heights', 'Arrochar', 'Arverne', 'Astoria',\n",
              "       'Bath Beach', 'Battery Park City', 'Bay Ridge', 'Bay Terrace',\n",
              "       'Bay Terrace Staten Island', 'Baychester', 'Bayside', 'Bayswater',\n",
              "       'Bedford-Stuyvesant', 'Belle Harbor', 'Bellerose', 'Belmont',\n",
              "       'Bensonhurst', 'Bergen Beach', 'Boerum Hill', 'Borough Park',\n",
              "       'Breezy Point', 'Briarwood', 'Brighton Beach', 'Bronxdale',\n",
              "       'Brooklyn Heights', 'Brownsville', \"Bull's Head\", 'Bushwick',\n",
              "       'Cambria Heights', 'Canarsie', 'Carroll Gardens', 'Castle Hill',\n",
              "       'Castleton Corners', 'Chelsea', 'Chinatown', 'City Island',\n",
              "       'Civic Center', 'Claremont Village', 'Clason Point', 'Clifton',\n",
              "       'Clinton Hill', 'Co-op City', 'Cobble Hill', 'College Point',\n",
              "       'Columbia St', 'Concord', 'Concourse', 'Concourse Village',\n",
              "       'Coney Island', 'Corona', 'Crown Heights', 'Cypress Hills',\n",
              "       'DUMBO', 'Ditmars Steinway', 'Dongan Hills', 'Douglaston',\n",
              "       'Downtown Brooklyn', 'Dyker Heights', 'East Elmhurst',\n",
              "       'East Flatbush', 'East Harlem', 'East Morrisania', 'East New York',\n",
              "       'East Village', 'Eastchester', 'Edenwald', 'Edgemere', 'Elmhurst',\n",
              "       'Eltingville', 'Emerson Hill', 'Far Rockaway', 'Fieldston',\n",
              "       'Financial District', 'Flatbush', 'Flatiron District', 'Flatlands',\n",
              "       'Flushing', 'Fordham', 'Forest Hills', 'Fort Greene',\n",
              "       'Fort Hamilton', 'Fresh Meadows', 'Glendale', 'Gowanus',\n",
              "       'Gramercy', 'Graniteville', 'Grant City', 'Gravesend',\n",
              "       'Great Kills', 'Greenpoint', 'Greenwich Village', 'Grymes Hill',\n",
              "       'Harlem', \"Hell's Kitchen\", 'Highbridge', 'Hollis', 'Holliswood',\n",
              "       'Howard Beach', 'Howland Hook', 'Huguenot', 'Hunts Point',\n",
              "       'Inwood', 'Jackson Heights', 'Jamaica', 'Jamaica Estates',\n",
              "       'Jamaica Hills', 'Kensington', 'Kew Gardens', 'Kew Gardens Hills',\n",
              "       'Kingsbridge', 'Kips Bay', 'Laurelton', 'Lighthouse Hill',\n",
              "       'Little Italy', 'Little Neck', 'Long Island City', 'Longwood',\n",
              "       'Lower East Side', 'Manhattan Beach', 'Marble Hill',\n",
              "       'Mariners Harbor', 'Maspeth', 'Melrose', 'Middle Village',\n",
              "       'Midland Beach', 'Midtown', 'Midwood', 'Mill Basin',\n",
              "       'Morningside Heights', 'Morris Heights', 'Morris Park',\n",
              "       'Morrisania', 'Mott Haven', 'Mount Eden', 'Mount Hope',\n",
              "       'Murray Hill', 'Navy Yard', 'Neponsit', 'New Brighton',\n",
              "       'New Dorp Beach', 'New Springville', 'NoHo', 'Nolita',\n",
              "       'North Riverdale', 'Norwood', 'Oakwood', 'Olinville', 'Ozone Park',\n",
              "       'Park Slope', 'Parkchester', 'Pelham Bay', 'Pelham Gardens',\n",
              "       'Port Morris', 'Port Richmond', \"Prince's Bay\", 'Prospect Heights',\n",
              "       'Prospect-Lefferts Gardens', 'Queens Village', 'Randall Manor',\n",
              "       'Red Hook', 'Rego Park', 'Richmond Hill', 'Richmondtown',\n",
              "       'Ridgewood', 'Riverdale', 'Rockaway Beach', 'Roosevelt Island',\n",
              "       'Rosebank', 'Rosedale', 'Rossville', 'Schuylerville', 'Sea Gate',\n",
              "       'Sheepshead Bay', 'Shore Acres', 'Silver Lake', 'SoHo',\n",
              "       'Soundview', 'South Beach', 'South Ozone Park', 'South Slope',\n",
              "       'Springfield Gardens', 'Spuyten Duyvil', 'St. Albans',\n",
              "       'St. George', 'Stapleton', 'Stuyvesant Town', 'Sunnyside',\n",
              "       'Sunset Park', 'Theater District', 'Throgs Neck', 'Todt Hill',\n",
              "       'Tompkinsville', 'Tottenville', 'Tremont', 'Tribeca',\n",
              "       'Two Bridges', 'Unionport', 'University Heights',\n",
              "       'Upper East Side', 'Upper West Side', 'Van Nest', 'Vinegar Hill',\n",
              "       'Wakefield', 'Washington Heights', 'West Brighton', 'West Farms',\n",
              "       'West Village', 'Westchester Square', 'Whitestone',\n",
              "       'Williamsbridge', 'Williamsburg', 'Willowbrook', 'Windsor Terrace',\n",
              "       'Woodhaven', 'Woodlawn', 'Woodside'], dtype=object)"
            ]
          },
          "metadata": {},
          "execution_count": 25
        }
      ]
    },
    {
      "cell_type": "code",
      "source": [
        "df.head()"
      ],
      "metadata": {
        "colab": {
          "base_uri": "https://localhost:8080/",
          "height": 206
        },
        "id": "Qo0SafEWnr75",
        "outputId": "fa8ca702-6961-4e92-cbed-c1fb5851ec8d"
      },
      "execution_count": 26,
      "outputs": [
        {
          "output_type": "execute_result",
          "data": {
            "text/plain": [
              "   listing_id    host_name last_review  price                nbhood_full  \\\n",
              "0        2595     Jennifer  2019-05-21    225         Manhattan, Midtown   \n",
              "1        3831  LisaRoxanne  2019-07-05     89     Brooklyn, Clinton Hill   \n",
              "2        5099        Chris  2019-06-22    200     Manhattan, Murray Hill   \n",
              "3        5178     Shunichi  2019-06-24     79  Manhattan, Hell's Kitchen   \n",
              "4        5238          Ben  2019-06-09    150       Manhattan, Chinatown   \n",
              "\n",
              "                                 description        room_type       city  \\\n",
              "0                      Skylit Midtown Castle  Entire home/apt  Manhattan   \n",
              "1            Cozy Entire Floor of Brownstone  Entire home/apt   Brooklyn   \n",
              "2  Large Cozy 1 BR Apartment In Midtown East  Entire home/apt  Manhattan   \n",
              "3            Large Furnished Room Near B'way     private room  Manhattan   \n",
              "4         Cute & Cozy Lower East Side 1 bdrm  Entire home/apt  Manhattan   \n",
              "\n",
              "             area  \n",
              "0         Midtown  \n",
              "1    Clinton Hill  \n",
              "2     Murray Hill  \n",
              "3  Hell's Kitchen  \n",
              "4       Chinatown  "
            ],
            "text/html": [
              "\n",
              "  <div id=\"df-bceae342-e465-4e06-bb72-c74ea094744d\">\n",
              "    <div class=\"colab-df-container\">\n",
              "      <div>\n",
              "<style scoped>\n",
              "    .dataframe tbody tr th:only-of-type {\n",
              "        vertical-align: middle;\n",
              "    }\n",
              "\n",
              "    .dataframe tbody tr th {\n",
              "        vertical-align: top;\n",
              "    }\n",
              "\n",
              "    .dataframe thead th {\n",
              "        text-align: right;\n",
              "    }\n",
              "</style>\n",
              "<table border=\"1\" class=\"dataframe\">\n",
              "  <thead>\n",
              "    <tr style=\"text-align: right;\">\n",
              "      <th></th>\n",
              "      <th>listing_id</th>\n",
              "      <th>host_name</th>\n",
              "      <th>last_review</th>\n",
              "      <th>price</th>\n",
              "      <th>nbhood_full</th>\n",
              "      <th>description</th>\n",
              "      <th>room_type</th>\n",
              "      <th>city</th>\n",
              "      <th>area</th>\n",
              "    </tr>\n",
              "  </thead>\n",
              "  <tbody>\n",
              "    <tr>\n",
              "      <th>0</th>\n",
              "      <td>2595</td>\n",
              "      <td>Jennifer</td>\n",
              "      <td>2019-05-21</td>\n",
              "      <td>225</td>\n",
              "      <td>Manhattan, Midtown</td>\n",
              "      <td>Skylit Midtown Castle</td>\n",
              "      <td>Entire home/apt</td>\n",
              "      <td>Manhattan</td>\n",
              "      <td>Midtown</td>\n",
              "    </tr>\n",
              "    <tr>\n",
              "      <th>1</th>\n",
              "      <td>3831</td>\n",
              "      <td>LisaRoxanne</td>\n",
              "      <td>2019-07-05</td>\n",
              "      <td>89</td>\n",
              "      <td>Brooklyn, Clinton Hill</td>\n",
              "      <td>Cozy Entire Floor of Brownstone</td>\n",
              "      <td>Entire home/apt</td>\n",
              "      <td>Brooklyn</td>\n",
              "      <td>Clinton Hill</td>\n",
              "    </tr>\n",
              "    <tr>\n",
              "      <th>2</th>\n",
              "      <td>5099</td>\n",
              "      <td>Chris</td>\n",
              "      <td>2019-06-22</td>\n",
              "      <td>200</td>\n",
              "      <td>Manhattan, Murray Hill</td>\n",
              "      <td>Large Cozy 1 BR Apartment In Midtown East</td>\n",
              "      <td>Entire home/apt</td>\n",
              "      <td>Manhattan</td>\n",
              "      <td>Murray Hill</td>\n",
              "    </tr>\n",
              "    <tr>\n",
              "      <th>3</th>\n",
              "      <td>5178</td>\n",
              "      <td>Shunichi</td>\n",
              "      <td>2019-06-24</td>\n",
              "      <td>79</td>\n",
              "      <td>Manhattan, Hell's Kitchen</td>\n",
              "      <td>Large Furnished Room Near B'way</td>\n",
              "      <td>private room</td>\n",
              "      <td>Manhattan</td>\n",
              "      <td>Hell's Kitchen</td>\n",
              "    </tr>\n",
              "    <tr>\n",
              "      <th>4</th>\n",
              "      <td>5238</td>\n",
              "      <td>Ben</td>\n",
              "      <td>2019-06-09</td>\n",
              "      <td>150</td>\n",
              "      <td>Manhattan, Chinatown</td>\n",
              "      <td>Cute &amp; Cozy Lower East Side 1 bdrm</td>\n",
              "      <td>Entire home/apt</td>\n",
              "      <td>Manhattan</td>\n",
              "      <td>Chinatown</td>\n",
              "    </tr>\n",
              "  </tbody>\n",
              "</table>\n",
              "</div>\n",
              "      <button class=\"colab-df-convert\" onclick=\"convertToInteractive('df-bceae342-e465-4e06-bb72-c74ea094744d')\"\n",
              "              title=\"Convert this dataframe to an interactive table.\"\n",
              "              style=\"display:none;\">\n",
              "        \n",
              "  <svg xmlns=\"http://www.w3.org/2000/svg\" height=\"24px\"viewBox=\"0 0 24 24\"\n",
              "       width=\"24px\">\n",
              "    <path d=\"M0 0h24v24H0V0z\" fill=\"none\"/>\n",
              "    <path d=\"M18.56 5.44l.94 2.06.94-2.06 2.06-.94-2.06-.94-.94-2.06-.94 2.06-2.06.94zm-11 1L8.5 8.5l.94-2.06 2.06-.94-2.06-.94L8.5 2.5l-.94 2.06-2.06.94zm10 10l.94 2.06.94-2.06 2.06-.94-2.06-.94-.94-2.06-.94 2.06-2.06.94z\"/><path d=\"M17.41 7.96l-1.37-1.37c-.4-.4-.92-.59-1.43-.59-.52 0-1.04.2-1.43.59L10.3 9.45l-7.72 7.72c-.78.78-.78 2.05 0 2.83L4 21.41c.39.39.9.59 1.41.59.51 0 1.02-.2 1.41-.59l7.78-7.78 2.81-2.81c.8-.78.8-2.07 0-2.86zM5.41 20L4 18.59l7.72-7.72 1.47 1.35L5.41 20z\"/>\n",
              "  </svg>\n",
              "      </button>\n",
              "      \n",
              "  <style>\n",
              "    .colab-df-container {\n",
              "      display:flex;\n",
              "      flex-wrap:wrap;\n",
              "      gap: 12px;\n",
              "    }\n",
              "\n",
              "    .colab-df-convert {\n",
              "      background-color: #E8F0FE;\n",
              "      border: none;\n",
              "      border-radius: 50%;\n",
              "      cursor: pointer;\n",
              "      display: none;\n",
              "      fill: #1967D2;\n",
              "      height: 32px;\n",
              "      padding: 0 0 0 0;\n",
              "      width: 32px;\n",
              "    }\n",
              "\n",
              "    .colab-df-convert:hover {\n",
              "      background-color: #E2EBFA;\n",
              "      box-shadow: 0px 1px 2px rgba(60, 64, 67, 0.3), 0px 1px 3px 1px rgba(60, 64, 67, 0.15);\n",
              "      fill: #174EA6;\n",
              "    }\n",
              "\n",
              "    [theme=dark] .colab-df-convert {\n",
              "      background-color: #3B4455;\n",
              "      fill: #D2E3FC;\n",
              "    }\n",
              "\n",
              "    [theme=dark] .colab-df-convert:hover {\n",
              "      background-color: #434B5C;\n",
              "      box-shadow: 0px 1px 3px 1px rgba(0, 0, 0, 0.15);\n",
              "      filter: drop-shadow(0px 1px 2px rgba(0, 0, 0, 0.3));\n",
              "      fill: #FFFFFF;\n",
              "    }\n",
              "  </style>\n",
              "\n",
              "      <script>\n",
              "        const buttonEl =\n",
              "          document.querySelector('#df-bceae342-e465-4e06-bb72-c74ea094744d button.colab-df-convert');\n",
              "        buttonEl.style.display =\n",
              "          google.colab.kernel.accessAllowed ? 'block' : 'none';\n",
              "\n",
              "        async function convertToInteractive(key) {\n",
              "          const element = document.querySelector('#df-bceae342-e465-4e06-bb72-c74ea094744d');\n",
              "          const dataTable =\n",
              "            await google.colab.kernel.invokeFunction('convertToInteractive',\n",
              "                                                     [key], {});\n",
              "          if (!dataTable) return;\n",
              "\n",
              "          const docLinkHtml = 'Like what you see? Visit the ' +\n",
              "            '<a target=\"_blank\" href=https://colab.research.google.com/notebooks/data_table.ipynb>data table notebook</a>'\n",
              "            + ' to learn more about interactive tables.';\n",
              "          element.innerHTML = '';\n",
              "          dataTable['output_type'] = 'display_data';\n",
              "          await google.colab.output.renderOutput(dataTable, element);\n",
              "          const docLink = document.createElement('div');\n",
              "          docLink.innerHTML = docLinkHtml;\n",
              "          element.appendChild(docLink);\n",
              "        }\n",
              "      </script>\n",
              "    </div>\n",
              "  </div>\n",
              "  "
            ]
          },
          "metadata": {},
          "execution_count": 26
        }
      ]
    },
    {
      "cell_type": "code",
      "source": [
        "df.isnull().sum()"
      ],
      "metadata": {
        "colab": {
          "base_uri": "https://localhost:8080/"
        },
        "id": "oQMm2nNL1MEM",
        "outputId": "de266f2c-7ed4-42eb-bd04-c5832688a4e2"
      },
      "execution_count": 27,
      "outputs": [
        {
          "output_type": "execute_result",
          "data": {
            "text/plain": [
              "listing_id     0\n",
              "host_name      0\n",
              "last_review    0\n",
              "price          0\n",
              "nbhood_full    0\n",
              "description    0\n",
              "room_type      0\n",
              "city           0\n",
              "area           0\n",
              "dtype: int64"
            ]
          },
          "metadata": {},
          "execution_count": 27
        }
      ]
    },
    {
      "cell_type": "markdown",
      "source": [
        "**room_type**"
      ],
      "metadata": {
        "id": "n4-saHLQyeQ7"
      }
    },
    {
      "cell_type": "code",
      "source": [
        "df['room_type'].sort_values().unique()"
      ],
      "metadata": {
        "colab": {
          "base_uri": "https://localhost:8080/"
        },
        "id": "xQsRl4-VyglM",
        "outputId": "d6d9531c-47ac-40ff-d5f5-2552223c5e00"
      },
      "execution_count": 28,
      "outputs": [
        {
          "output_type": "execute_result",
          "data": {
            "text/plain": [
              "array(['ENTIRE HOME/APT', 'Entire home/apt', 'PRIVATE ROOM',\n",
              "       'Private room', 'SHARED ROOM', 'Shared room', 'entire home/apt',\n",
              "       'private room', 'shared room'], dtype=object)"
            ]
          },
          "metadata": {},
          "execution_count": 28
        }
      ]
    },
    {
      "cell_type": "code",
      "source": [
        "df['room_type'] = df['room_type'].str.lower() # change value to lower case"
      ],
      "metadata": {
        "id": "lBeV9JPIzTPz"
      },
      "execution_count": 29,
      "outputs": []
    },
    {
      "cell_type": "code",
      "source": [
        "df['room_type'].sort_values().unique()"
      ],
      "metadata": {
        "colab": {
          "base_uri": "https://localhost:8080/"
        },
        "id": "LYmgVbNAzp1O",
        "outputId": "ded89ef7-addd-49da-9653-6057b7980c4f"
      },
      "execution_count": 30,
      "outputs": [
        {
          "output_type": "execute_result",
          "data": {
            "text/plain": [
              "array(['entire home/apt', 'private room', 'shared room'], dtype=object)"
            ]
          },
          "metadata": {},
          "execution_count": 30
        }
      ]
    },
    {
      "cell_type": "markdown",
      "source": [
        "**check duplicated**"
      ],
      "metadata": {
        "id": "InN7PkMzg__z"
      }
    },
    {
      "cell_type": "code",
      "source": [
        "df[df.duplicated()] # no duplicate values"
      ],
      "metadata": {
        "colab": {
          "base_uri": "https://localhost:8080/",
          "height": 49
        },
        "id": "4Kj7_LuThGjt",
        "outputId": "f2f45987-7d10-4c98-b29d-7695a5ce9241"
      },
      "execution_count": 34,
      "outputs": [
        {
          "output_type": "execute_result",
          "data": {
            "text/plain": [
              "Empty DataFrame\n",
              "Columns: [listing_id, host_name, last_review, price, nbhood_full, description, room_type, city, area]\n",
              "Index: []"
            ],
            "text/html": [
              "\n",
              "  <div id=\"df-370b6733-f12d-4992-b25c-1ce3f9703203\">\n",
              "    <div class=\"colab-df-container\">\n",
              "      <div>\n",
              "<style scoped>\n",
              "    .dataframe tbody tr th:only-of-type {\n",
              "        vertical-align: middle;\n",
              "    }\n",
              "\n",
              "    .dataframe tbody tr th {\n",
              "        vertical-align: top;\n",
              "    }\n",
              "\n",
              "    .dataframe thead th {\n",
              "        text-align: right;\n",
              "    }\n",
              "</style>\n",
              "<table border=\"1\" class=\"dataframe\">\n",
              "  <thead>\n",
              "    <tr style=\"text-align: right;\">\n",
              "      <th></th>\n",
              "      <th>listing_id</th>\n",
              "      <th>host_name</th>\n",
              "      <th>last_review</th>\n",
              "      <th>price</th>\n",
              "      <th>nbhood_full</th>\n",
              "      <th>description</th>\n",
              "      <th>room_type</th>\n",
              "      <th>city</th>\n",
              "      <th>area</th>\n",
              "    </tr>\n",
              "  </thead>\n",
              "  <tbody>\n",
              "  </tbody>\n",
              "</table>\n",
              "</div>\n",
              "      <button class=\"colab-df-convert\" onclick=\"convertToInteractive('df-370b6733-f12d-4992-b25c-1ce3f9703203')\"\n",
              "              title=\"Convert this dataframe to an interactive table.\"\n",
              "              style=\"display:none;\">\n",
              "        \n",
              "  <svg xmlns=\"http://www.w3.org/2000/svg\" height=\"24px\"viewBox=\"0 0 24 24\"\n",
              "       width=\"24px\">\n",
              "    <path d=\"M0 0h24v24H0V0z\" fill=\"none\"/>\n",
              "    <path d=\"M18.56 5.44l.94 2.06.94-2.06 2.06-.94-2.06-.94-.94-2.06-.94 2.06-2.06.94zm-11 1L8.5 8.5l.94-2.06 2.06-.94-2.06-.94L8.5 2.5l-.94 2.06-2.06.94zm10 10l.94 2.06.94-2.06 2.06-.94-2.06-.94-.94-2.06-.94 2.06-2.06.94z\"/><path d=\"M17.41 7.96l-1.37-1.37c-.4-.4-.92-.59-1.43-.59-.52 0-1.04.2-1.43.59L10.3 9.45l-7.72 7.72c-.78.78-.78 2.05 0 2.83L4 21.41c.39.39.9.59 1.41.59.51 0 1.02-.2 1.41-.59l7.78-7.78 2.81-2.81c.8-.78.8-2.07 0-2.86zM5.41 20L4 18.59l7.72-7.72 1.47 1.35L5.41 20z\"/>\n",
              "  </svg>\n",
              "      </button>\n",
              "      \n",
              "  <style>\n",
              "    .colab-df-container {\n",
              "      display:flex;\n",
              "      flex-wrap:wrap;\n",
              "      gap: 12px;\n",
              "    }\n",
              "\n",
              "    .colab-df-convert {\n",
              "      background-color: #E8F0FE;\n",
              "      border: none;\n",
              "      border-radius: 50%;\n",
              "      cursor: pointer;\n",
              "      display: none;\n",
              "      fill: #1967D2;\n",
              "      height: 32px;\n",
              "      padding: 0 0 0 0;\n",
              "      width: 32px;\n",
              "    }\n",
              "\n",
              "    .colab-df-convert:hover {\n",
              "      background-color: #E2EBFA;\n",
              "      box-shadow: 0px 1px 2px rgba(60, 64, 67, 0.3), 0px 1px 3px 1px rgba(60, 64, 67, 0.15);\n",
              "      fill: #174EA6;\n",
              "    }\n",
              "\n",
              "    [theme=dark] .colab-df-convert {\n",
              "      background-color: #3B4455;\n",
              "      fill: #D2E3FC;\n",
              "    }\n",
              "\n",
              "    [theme=dark] .colab-df-convert:hover {\n",
              "      background-color: #434B5C;\n",
              "      box-shadow: 0px 1px 3px 1px rgba(0, 0, 0, 0.15);\n",
              "      filter: drop-shadow(0px 1px 2px rgba(0, 0, 0, 0.3));\n",
              "      fill: #FFFFFF;\n",
              "    }\n",
              "  </style>\n",
              "\n",
              "      <script>\n",
              "        const buttonEl =\n",
              "          document.querySelector('#df-370b6733-f12d-4992-b25c-1ce3f9703203 button.colab-df-convert');\n",
              "        buttonEl.style.display =\n",
              "          google.colab.kernel.accessAllowed ? 'block' : 'none';\n",
              "\n",
              "        async function convertToInteractive(key) {\n",
              "          const element = document.querySelector('#df-370b6733-f12d-4992-b25c-1ce3f9703203');\n",
              "          const dataTable =\n",
              "            await google.colab.kernel.invokeFunction('convertToInteractive',\n",
              "                                                     [key], {});\n",
              "          if (!dataTable) return;\n",
              "\n",
              "          const docLinkHtml = 'Like what you see? Visit the ' +\n",
              "            '<a target=\"_blank\" href=https://colab.research.google.com/notebooks/data_table.ipynb>data table notebook</a>'\n",
              "            + ' to learn more about interactive tables.';\n",
              "          element.innerHTML = '';\n",
              "          dataTable['output_type'] = 'display_data';\n",
              "          await google.colab.output.renderOutput(dataTable, element);\n",
              "          const docLink = document.createElement('div');\n",
              "          docLink.innerHTML = docLinkHtml;\n",
              "          element.appendChild(docLink);\n",
              "        }\n",
              "      </script>\n",
              "    </div>\n",
              "  </div>\n",
              "  "
            ]
          },
          "metadata": {},
          "execution_count": 34
        }
      ]
    },
    {
      "cell_type": "code",
      "source": [
        "df.head()"
      ],
      "metadata": {
        "colab": {
          "base_uri": "https://localhost:8080/",
          "height": 206
        },
        "id": "db8g9FwkzkTa",
        "outputId": "e69ec632-54c7-44e3-b4ba-481d3ef6f40b"
      },
      "execution_count": 35,
      "outputs": [
        {
          "output_type": "execute_result",
          "data": {
            "text/plain": [
              "   listing_id    host_name last_review  price                nbhood_full  \\\n",
              "0        2595     Jennifer  2019-05-21    225         Manhattan, Midtown   \n",
              "1        3831  LisaRoxanne  2019-07-05     89     Brooklyn, Clinton Hill   \n",
              "2        5099        Chris  2019-06-22    200     Manhattan, Murray Hill   \n",
              "3        5178     Shunichi  2019-06-24     79  Manhattan, Hell's Kitchen   \n",
              "4        5238          Ben  2019-06-09    150       Manhattan, Chinatown   \n",
              "\n",
              "                                 description        room_type       city  \\\n",
              "0                      Skylit Midtown Castle  entire home/apt  Manhattan   \n",
              "1            Cozy Entire Floor of Brownstone  entire home/apt   Brooklyn   \n",
              "2  Large Cozy 1 BR Apartment In Midtown East  entire home/apt  Manhattan   \n",
              "3            Large Furnished Room Near B'way     private room  Manhattan   \n",
              "4         Cute & Cozy Lower East Side 1 bdrm  entire home/apt  Manhattan   \n",
              "\n",
              "             area  \n",
              "0         Midtown  \n",
              "1    Clinton Hill  \n",
              "2     Murray Hill  \n",
              "3  Hell's Kitchen  \n",
              "4       Chinatown  "
            ],
            "text/html": [
              "\n",
              "  <div id=\"df-863d8439-9c31-4611-a9d6-6c266ee1ad82\">\n",
              "    <div class=\"colab-df-container\">\n",
              "      <div>\n",
              "<style scoped>\n",
              "    .dataframe tbody tr th:only-of-type {\n",
              "        vertical-align: middle;\n",
              "    }\n",
              "\n",
              "    .dataframe tbody tr th {\n",
              "        vertical-align: top;\n",
              "    }\n",
              "\n",
              "    .dataframe thead th {\n",
              "        text-align: right;\n",
              "    }\n",
              "</style>\n",
              "<table border=\"1\" class=\"dataframe\">\n",
              "  <thead>\n",
              "    <tr style=\"text-align: right;\">\n",
              "      <th></th>\n",
              "      <th>listing_id</th>\n",
              "      <th>host_name</th>\n",
              "      <th>last_review</th>\n",
              "      <th>price</th>\n",
              "      <th>nbhood_full</th>\n",
              "      <th>description</th>\n",
              "      <th>room_type</th>\n",
              "      <th>city</th>\n",
              "      <th>area</th>\n",
              "    </tr>\n",
              "  </thead>\n",
              "  <tbody>\n",
              "    <tr>\n",
              "      <th>0</th>\n",
              "      <td>2595</td>\n",
              "      <td>Jennifer</td>\n",
              "      <td>2019-05-21</td>\n",
              "      <td>225</td>\n",
              "      <td>Manhattan, Midtown</td>\n",
              "      <td>Skylit Midtown Castle</td>\n",
              "      <td>entire home/apt</td>\n",
              "      <td>Manhattan</td>\n",
              "      <td>Midtown</td>\n",
              "    </tr>\n",
              "    <tr>\n",
              "      <th>1</th>\n",
              "      <td>3831</td>\n",
              "      <td>LisaRoxanne</td>\n",
              "      <td>2019-07-05</td>\n",
              "      <td>89</td>\n",
              "      <td>Brooklyn, Clinton Hill</td>\n",
              "      <td>Cozy Entire Floor of Brownstone</td>\n",
              "      <td>entire home/apt</td>\n",
              "      <td>Brooklyn</td>\n",
              "      <td>Clinton Hill</td>\n",
              "    </tr>\n",
              "    <tr>\n",
              "      <th>2</th>\n",
              "      <td>5099</td>\n",
              "      <td>Chris</td>\n",
              "      <td>2019-06-22</td>\n",
              "      <td>200</td>\n",
              "      <td>Manhattan, Murray Hill</td>\n",
              "      <td>Large Cozy 1 BR Apartment In Midtown East</td>\n",
              "      <td>entire home/apt</td>\n",
              "      <td>Manhattan</td>\n",
              "      <td>Murray Hill</td>\n",
              "    </tr>\n",
              "    <tr>\n",
              "      <th>3</th>\n",
              "      <td>5178</td>\n",
              "      <td>Shunichi</td>\n",
              "      <td>2019-06-24</td>\n",
              "      <td>79</td>\n",
              "      <td>Manhattan, Hell's Kitchen</td>\n",
              "      <td>Large Furnished Room Near B'way</td>\n",
              "      <td>private room</td>\n",
              "      <td>Manhattan</td>\n",
              "      <td>Hell's Kitchen</td>\n",
              "    </tr>\n",
              "    <tr>\n",
              "      <th>4</th>\n",
              "      <td>5238</td>\n",
              "      <td>Ben</td>\n",
              "      <td>2019-06-09</td>\n",
              "      <td>150</td>\n",
              "      <td>Manhattan, Chinatown</td>\n",
              "      <td>Cute &amp; Cozy Lower East Side 1 bdrm</td>\n",
              "      <td>entire home/apt</td>\n",
              "      <td>Manhattan</td>\n",
              "      <td>Chinatown</td>\n",
              "    </tr>\n",
              "  </tbody>\n",
              "</table>\n",
              "</div>\n",
              "      <button class=\"colab-df-convert\" onclick=\"convertToInteractive('df-863d8439-9c31-4611-a9d6-6c266ee1ad82')\"\n",
              "              title=\"Convert this dataframe to an interactive table.\"\n",
              "              style=\"display:none;\">\n",
              "        \n",
              "  <svg xmlns=\"http://www.w3.org/2000/svg\" height=\"24px\"viewBox=\"0 0 24 24\"\n",
              "       width=\"24px\">\n",
              "    <path d=\"M0 0h24v24H0V0z\" fill=\"none\"/>\n",
              "    <path d=\"M18.56 5.44l.94 2.06.94-2.06 2.06-.94-2.06-.94-.94-2.06-.94 2.06-2.06.94zm-11 1L8.5 8.5l.94-2.06 2.06-.94-2.06-.94L8.5 2.5l-.94 2.06-2.06.94zm10 10l.94 2.06.94-2.06 2.06-.94-2.06-.94-.94-2.06-.94 2.06-2.06.94z\"/><path d=\"M17.41 7.96l-1.37-1.37c-.4-.4-.92-.59-1.43-.59-.52 0-1.04.2-1.43.59L10.3 9.45l-7.72 7.72c-.78.78-.78 2.05 0 2.83L4 21.41c.39.39.9.59 1.41.59.51 0 1.02-.2 1.41-.59l7.78-7.78 2.81-2.81c.8-.78.8-2.07 0-2.86zM5.41 20L4 18.59l7.72-7.72 1.47 1.35L5.41 20z\"/>\n",
              "  </svg>\n",
              "      </button>\n",
              "      \n",
              "  <style>\n",
              "    .colab-df-container {\n",
              "      display:flex;\n",
              "      flex-wrap:wrap;\n",
              "      gap: 12px;\n",
              "    }\n",
              "\n",
              "    .colab-df-convert {\n",
              "      background-color: #E8F0FE;\n",
              "      border: none;\n",
              "      border-radius: 50%;\n",
              "      cursor: pointer;\n",
              "      display: none;\n",
              "      fill: #1967D2;\n",
              "      height: 32px;\n",
              "      padding: 0 0 0 0;\n",
              "      width: 32px;\n",
              "    }\n",
              "\n",
              "    .colab-df-convert:hover {\n",
              "      background-color: #E2EBFA;\n",
              "      box-shadow: 0px 1px 2px rgba(60, 64, 67, 0.3), 0px 1px 3px 1px rgba(60, 64, 67, 0.15);\n",
              "      fill: #174EA6;\n",
              "    }\n",
              "\n",
              "    [theme=dark] .colab-df-convert {\n",
              "      background-color: #3B4455;\n",
              "      fill: #D2E3FC;\n",
              "    }\n",
              "\n",
              "    [theme=dark] .colab-df-convert:hover {\n",
              "      background-color: #434B5C;\n",
              "      box-shadow: 0px 1px 3px 1px rgba(0, 0, 0, 0.15);\n",
              "      filter: drop-shadow(0px 1px 2px rgba(0, 0, 0, 0.3));\n",
              "      fill: #FFFFFF;\n",
              "    }\n",
              "  </style>\n",
              "\n",
              "      <script>\n",
              "        const buttonEl =\n",
              "          document.querySelector('#df-863d8439-9c31-4611-a9d6-6c266ee1ad82 button.colab-df-convert');\n",
              "        buttonEl.style.display =\n",
              "          google.colab.kernel.accessAllowed ? 'block' : 'none';\n",
              "\n",
              "        async function convertToInteractive(key) {\n",
              "          const element = document.querySelector('#df-863d8439-9c31-4611-a9d6-6c266ee1ad82');\n",
              "          const dataTable =\n",
              "            await google.colab.kernel.invokeFunction('convertToInteractive',\n",
              "                                                     [key], {});\n",
              "          if (!dataTable) return;\n",
              "\n",
              "          const docLinkHtml = 'Like what you see? Visit the ' +\n",
              "            '<a target=\"_blank\" href=https://colab.research.google.com/notebooks/data_table.ipynb>data table notebook</a>'\n",
              "            + ' to learn more about interactive tables.';\n",
              "          element.innerHTML = '';\n",
              "          dataTable['output_type'] = 'display_data';\n",
              "          await google.colab.output.renderOutput(dataTable, element);\n",
              "          const docLink = document.createElement('div');\n",
              "          docLink.innerHTML = docLinkHtml;\n",
              "          element.appendChild(docLink);\n",
              "        }\n",
              "      </script>\n",
              "    </div>\n",
              "  </div>\n",
              "  "
            ]
          },
          "metadata": {},
          "execution_count": 35
        }
      ]
    },
    {
      "cell_type": "markdown",
      "source": [
        "# **Visualization**"
      ],
      "metadata": {
        "id": "RgPyllAgA6tW"
      }
    },
    {
      "cell_type": "code",
      "source": [],
      "metadata": {
        "id": "BfDS9fKJkl9L"
      },
      "execution_count": null,
      "outputs": []
    }
  ]
}